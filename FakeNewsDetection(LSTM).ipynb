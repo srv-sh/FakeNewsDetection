{
  "nbformat": 4,
  "nbformat_minor": 0,
  "metadata": {
    "colab": {
      "name": "FakeNewsDetection(LSTM).ipynb",
      "private_outputs": true,
      "provenance": [],
      "authorship_tag": "ABX9TyOVgi6FWOEeL6IXPlSjqsFp",
      "include_colab_link": true
    },
    "kernelspec": {
      "name": "python3",
      "display_name": "Python 3"
    },
    "language_info": {
      "name": "python"
    }
  },
  "cells": [
    {
      "cell_type": "markdown",
      "metadata": {
        "id": "view-in-github",
        "colab_type": "text"
      },
      "source": [
        "<a href=\"https://colab.research.google.com/github/srv-sh/FakeNewsDetection/blob/main/FakeNewsDetection(LSTM).ipynb\" target=\"_parent\"><img src=\"https://colab.research.google.com/assets/colab-badge.svg\" alt=\"Open In Colab\"/></a>"
      ]
    },
    {
      "cell_type": "code",
      "metadata": {
        "id": "KeThY8_chUxA"
      },
      "source": [
        "from google.colab import files\n",
        "files.upload()"
      ],
      "execution_count": null,
      "outputs": []
    },
    {
      "cell_type": "code",
      "metadata": {
        "id": "iqHTZnQsKnCl"
      },
      "source": [
        ""
      ],
      "execution_count": null,
      "outputs": []
    },
    {
      "cell_type": "markdown",
      "metadata": {
        "id": "Hle-Ke65KstF"
      },
      "source": [
        " # Import data"
      ]
    },
    {
      "cell_type": "code",
      "metadata": {
        "id": "9lL0GjjkjuRb"
      },
      "source": [
        "\n",
        "\n",
        "!pip install -q kaggle\n",
        "!mkdir -p ~/.kaggle\n",
        "!cp kaggle.json ~/.kaggle/\n",
        "!ls ~/.kaggle\n",
        "# পারমিশন দেখে নিন\n",
        "!chmod 600 /root/.kaggle/kaggle.json\n",
        "\n"
      ],
      "execution_count": null,
      "outputs": []
    },
    {
      "cell_type": "code",
      "metadata": {
        "id": "iV_veQSWj6YF"
      },
      "source": [
        "!kaggle datasets download -d cryptexcode/banfakenews"
      ],
      "execution_count": null,
      "outputs": []
    },
    {
      "cell_type": "code",
      "metadata": {
        "id": "5wzt_RC3kZIe"
      },
      "source": [
        "\n",
        "\n",
        "\n",
        "!unzip banfakenews.zip\n",
        "\n"
      ],
      "execution_count": null,
      "outputs": []
    },
    {
      "cell_type": "code",
      "metadata": {
        "id": "CckvN2Fupr9O"
      },
      "source": [
        "from google.colab import drive\n",
        "drive.mount('/content/drive')"
      ],
      "execution_count": null,
      "outputs": []
    },
    {
      "cell_type": "code",
      "metadata": {
        "id": "RMDNbp5RkkjZ"
      },
      "source": [
        "import pandas as pd \n",
        "df1 = pd.read_csv(\"/content/Authentic-48K.csv\")\n",
        "df2 = pd.read_csv(\"/content/Fake-1K.csv\")\n",
        "df3 = pd.read_csv(\"/content/LabeledAuthentic-7K.csv\")\n",
        "df4 = pd.read_csv(\"/content/LabeledFake-1K.csv\")\n",
        "df5 = pd.read_csv(\"/content/drive/MyDrive/data/Fake1k.csv\") # this data is from another dataset\n"
      ],
      "execution_count": null,
      "outputs": []
    },
    {
      "cell_type": "code",
      "metadata": {
        "id": "W7j1kcCKoQUv"
      },
      "source": [
        "\n",
        "#df = pd.concat([df1[:2000], df2, df3[:1591],df4,df5])\n",
        "df = pd.concat([df1, df2, df3,df4,df5])\n",
        "df_size = df.shape"
      ],
      "execution_count": null,
      "outputs": []
    },
    {
      "cell_type": "code",
      "metadata": {
        "id": "gJzf1meno_XL"
      },
      "source": [
        "df.columns"
      ],
      "execution_count": null,
      "outputs": []
    },
    {
      "cell_type": "markdown",
      "metadata": {
        "id": "tVzNtWg6Ldni"
      },
      "source": [
        "# data preprocessing"
      ]
    },
    {
      "cell_type": "code",
      "metadata": {
        "id": "aTzbVZDypCBz"
      },
      "source": [
        "#concating 2 fields from dataset\n",
        "new_df = df.loc[: , ['content' , 'label']] \n",
        "new_df.shape"
      ],
      "execution_count": null,
      "outputs": []
    },
    {
      "cell_type": "code",
      "metadata": {
        "id": "YNn0Ay979S8t"
      },
      "source": [
        "#labels distribution\n",
        "tmp =  new_df['label'].value_counts().sort_index()\n",
        "import seaborn as sb\n",
        "sb.countplot(x='label' , data = new_df , order = tmp.index)\n"
      ],
      "execution_count": null,
      "outputs": []
    },
    {
      "cell_type": "code",
      "metadata": {
        "id": "OxVJzgEM9moh"
      },
      "source": [
        "#Class weight Minority class will get higher priroty and majority class will get lower priroty\n",
        "from sklearn.utils import class_weight\n",
        "import numpy as np\n",
        "\n",
        "class_weight = list(class_weight.compute_class_weight('balanced',np.unique(new_df['label']),new_df['label']))"
      ],
      "execution_count": null,
      "outputs": []
    },
    {
      "cell_type": "code",
      "metadata": {
        "id": "JAuN0TWC-cFW"
      },
      "source": [
        "class_weight"
      ],
      "execution_count": null,
      "outputs": []
    },
    {
      "cell_type": "code",
      "metadata": {
        "id": "fhBgSXwoA5n4"
      },
      "source": [
        "weights={}"
      ],
      "execution_count": null,
      "outputs": []
    },
    {
      "cell_type": "code",
      "metadata": {
        "id": "Jb4iGyVJAven"
      },
      "source": [
        "for index , weight in enumerate(class_weight):\n",
        "  weights[index] = weight"
      ],
      "execution_count": null,
      "outputs": []
    },
    {
      "cell_type": "code",
      "metadata": {
        "id": "0fHen2owBMoJ"
      },
      "source": [
        "weights"
      ],
      "execution_count": null,
      "outputs": []
    },
    {
      "cell_type": "code",
      "metadata": {
        "id": "8QahfUK8Oocv"
      },
      "source": [
        "#shuffle the data\n",
        "'''new_df = new_df.sample(frac = 1)\n",
        "new_df.head(10)'''\n",
        "import sklearn\n",
        "df_shuffled=sklearn.utils.shuffle(new_df)\n",
        "df_shuffled.head(20)"
      ],
      "execution_count": null,
      "outputs": []
    },
    {
      "cell_type": "code",
      "metadata": {
        "id": "VvlHQ4X0Ga25"
      },
      "source": [
        "list_content = df_shuffled['content'].tolist()\n",
        "list_label = df_shuffled['label'].astype(int).tolist()"
      ],
      "execution_count": null,
      "outputs": []
    },
    {
      "cell_type": "code",
      "metadata": {
        "id": "mdVmoeoHQuTv"
      },
      "source": [
        "#data cleaning using rex\n",
        "import re\n",
        "def rex(token):\n",
        "    return re.sub(\"([A-Za-z0-9_:.]+|[\\n]+|[\\xa0]+|শেয়ার করুন)\",\"\",token)\n",
        "list_content =[rex(token) for token in list_content]"
      ],
      "execution_count": null,
      "outputs": []
    },
    {
      "cell_type": "code",
      "metadata": {
        "id": "69y4lQXtRDT5"
      },
      "source": [
        ""
      ],
      "execution_count": null,
      "outputs": []
    },
    {
      "cell_type": "code",
      "metadata": {
        "id": "V6UUqoA5JV17"
      },
      "source": [
        ""
      ],
      "execution_count": null,
      "outputs": []
    },
    {
      "cell_type": "code",
      "metadata": {
        "id": "QSB4_XLA4LFb"
      },
      "source": [
        " from sklearn.model_selection import train_test_split\n",
        " training_sentences , testing_sentences, training_labels, testing_labels = train_test_split(list_content, list_label, test_size=0.20, random_state=42 , shuffle= True)"
      ],
      "execution_count": null,
      "outputs": []
    },
    {
      "cell_type": "code",
      "metadata": {
        "id": "UzDHXNx5NwEo"
      },
      "source": [
        "len(training_sentences)"
      ],
      "execution_count": null,
      "outputs": []
    },
    {
      "cell_type": "code",
      "metadata": {
        "id": "Tx0AMqCrS7tB"
      },
      "source": [
        "import tensorflow as tf\n",
        "from tensorflow.keras.preprocessing.text import Tokenizer\n",
        "from tensorflow.keras.preprocessing.sequence import pad_sequences\n"
      ],
      "execution_count": null,
      "outputs": []
    },
    {
      "cell_type": "code",
      "metadata": {
        "id": "xdj8m5DYTUw4"
      },
      "source": [
        "puncList = [\"।\", \"”\", \"“\", \"’\"]\n",
        "x= \"\".join(puncList)\n",
        "filterString = x + '!\"#$%&()*+,-./:;<=>?@[\\\\]^_`{|}~\\t\\n০১২৩৪৫৬৭৮৯'\n",
        "tokenizer = Tokenizer(oov_token='<OOV>',filters=filterString)\n",
        "tokenizer.fit_on_texts(training_sentences)"
      ],
      "execution_count": null,
      "outputs": []
    },
    {
      "cell_type": "code",
      "metadata": {
        "id": "QHawta7_TlwQ"
      },
      "source": [
        "list(tokenizer.word_index.items())[:20]"
      ],
      "execution_count": null,
      "outputs": []
    },
    {
      "cell_type": "code",
      "metadata": {
        "id": "zXfWTnNLTwoK"
      },
      "source": [
        "vocab_size = len(tokenizer.word_index)+1"
      ],
      "execution_count": null,
      "outputs": []
    },
    {
      "cell_type": "code",
      "metadata": {
        "id": "Pu-Vn4dHUMN2"
      },
      "source": [
        "vocab_size"
      ],
      "execution_count": null,
      "outputs": []
    },
    {
      "cell_type": "code",
      "metadata": {
        "id": "nISJL6blleKL"
      },
      "source": [
        ""
      ],
      "execution_count": null,
      "outputs": []
    },
    {
      "cell_type": "code",
      "metadata": {
        "id": "p4ooPYVZUObE"
      },
      "source": [
        "max_length = 1000\n",
        "trunc_type = 'post'\n",
        "padding_type = 'post'\n",
        "training_sequences = tokenizer.texts_to_sequences(training_sentences)\n",
        "training_padded = pad_sequences(training_sequences, maxlen=max_length, padding=padding_type, truncating=trunc_type)\n",
        "\n",
        "testing_sequences= tokenizer.texts_to_sequences(testing_sentences)\n",
        "testing_padded = pad_sequences(testing_sequences,maxlen=max_length , padding= padding_type , truncating= trunc_type)"
      ],
      "execution_count": null,
      "outputs": []
    },
    {
      "cell_type": "code",
      "metadata": {
        "id": "f04WaMvAW817"
      },
      "source": [
        "\n",
        "\n",
        "tokenizer.texts_to_sequences(['ভোকাবুলারি সাইজ ঠিক করে নিচ্ছি'])\n",
        "\n"
      ],
      "execution_count": null,
      "outputs": []
    },
    {
      "cell_type": "code",
      "metadata": {
        "id": "_2EKfyXQlR8L"
      },
      "source": [
        "\n",
        "\n",
        "print(testing_padded[5])\n",
        "\n"
      ],
      "execution_count": null,
      "outputs": []
    },
    {
      "cell_type": "code",
      "metadata": {
        "id": "4BGoY0MtlWRM"
      },
      "source": [
        "import numpy as np\n",
        "training_padded = np.array(training_padded)\n",
        "training_labels = np.array(training_labels)\n",
        "testing_padded = np.array(testing_padded)\n",
        "testing_labels = np.array(testing_labels)"
      ],
      "execution_count": null,
      "outputs": []
    },
    {
      "cell_type": "markdown",
      "metadata": {
        "id": "L_6N8BXXSwt8"
      },
      "source": [
        "# Building the model"
      ]
    },
    {
      "cell_type": "code",
      "metadata": {
        "id": "ZhKYytj-odZh"
      },
      "source": [
        "embedding_dim = 50"
      ],
      "execution_count": null,
      "outputs": []
    },
    {
      "cell_type": "code",
      "metadata": {
        "id": "tq_tgaFGpH7F"
      },
      "source": [
        "training_padded"
      ],
      "execution_count": null,
      "outputs": []
    },
    {
      "cell_type": "code",
      "metadata": {
        "id": "2utQTB0cpLyD"
      },
      "source": [
        "import tensorflow as tf\n",
        "from tensorflow.keras import Sequential\n",
        "from tensorflow.keras.layers import Embedding , Bidirectional,LSTM ,Dense , Dropout\n",
        "import keras\n",
        "from keras import backend as K"
      ],
      "execution_count": null,
      "outputs": []
    },
    {
      "cell_type": "code",
      "metadata": {
        "id": "5wK3ts812rcZ"
      },
      "source": [
        "#LSTM model"
      ],
      "execution_count": null,
      "outputs": []
    },
    {
      "cell_type": "code",
      "metadata": {
        "id": "Rh7YnSv5pvmn"
      },
      "source": [
        "model = Sequential(\n",
        "    [\n",
        "     Embedding(input_dim=vocab_size,output_dim= embedding_dim , input_length=max_length),\n",
        "     Bidirectional(LSTM(64,return_sequences=True)),\n",
        "     Bidirectional(LSTM(32)),\n",
        "     Dense(1, activation='sigmoid')\n",
        "    ]\n",
        ")"
      ],
      "execution_count": null,
      "outputs": []
    },
    {
      "cell_type": "code",
      "metadata": {
        "id": "p97948d_TAEY"
      },
      "source": [
        "# LSTM with regularization"
      ],
      "execution_count": null,
      "outputs": []
    },
    {
      "cell_type": "code",
      "metadata": {
        "id": "knElynVrTAIp"
      },
      "source": [
        "model_regularization = Sequential(\n",
        "    [\n",
        "     Embedding(input_dim=vocab_size,output_dim= embedding_dim , input_length=max_length),\n",
        "     Bidirectional(LSTM(64,return_sequences=True)),\n",
        "     Dropout(rate=.4),\n",
        "     Bidirectional(LSTM(32)),\n",
        "     Dropout(rate=.4),\n",
        "     Dense(1, activation='sigmoid')\n",
        "    ]\n",
        ")"
      ],
      "execution_count": null,
      "outputs": []
    },
    {
      "cell_type": "code",
      "metadata": {
        "id": "xLS0p3eBR0ij"
      },
      "source": [
        "# CNN "
      ],
      "execution_count": null,
      "outputs": []
    },
    {
      "cell_type": "code",
      "metadata": {
        "id": "uf5aXdHMR0nz"
      },
      "source": [
        "from keras.models import Sequential\n",
        "from keras import layers\n",
        "embedding_dim = 100\n",
        "\n",
        "model_cnn = Sequential()\n",
        "model_cnn.add(layers.Embedding(input_dim=vocab_size,output_dim= embedding_dim , input_length=max_length))\n",
        "model_cnn.add(layers.Conv1D(128, 5, activation='relu'))\n",
        "model_cnn.add(layers.GlobalMaxPooling1D())\n",
        "model_cnn.add(layers.Dense(10, activation='relu'))\n",
        "model_cnn.add(layers.Dense(1, activation='sigmoid'))"
      ],
      "execution_count": null,
      "outputs": []
    },
    {
      "cell_type": "code",
      "metadata": {
        "id": "5QQfpjrKR0rR"
      },
      "source": [
        ""
      ],
      "execution_count": null,
      "outputs": []
    },
    {
      "cell_type": "code",
      "metadata": {
        "id": "1nmmQi-orEP9"
      },
      "source": [
        "#model LSTM\n",
        "model.compile(loss='binary_crossentropy' , optimizer= 'adam' , metrics= ['accuracy'])\n",
        "#model with regularixation\n",
        "model_regularization.compile(loss='binary_crossentropy' , optimizer= 'adam' , metrics= ['accuracy'])\n",
        "#model CNN\n",
        "model_cnn.compile(optimizer='adam',\n",
        "              loss='binary_crossentropy',\n",
        "              metrics=['accuracy'])"
      ],
      "execution_count": null,
      "outputs": []
    },
    {
      "cell_type": "code",
      "metadata": {
        "id": "PpqFkayOsdXk"
      },
      "source": [
        "model.summary()"
      ],
      "execution_count": null,
      "outputs": []
    },
    {
      "cell_type": "code",
      "metadata": {
        "id": "lrSa4sG3VNDk"
      },
      "source": [
        "model_regularization.summary()"
      ],
      "execution_count": null,
      "outputs": []
    },
    {
      "cell_type": "code",
      "metadata": {
        "id": "RAvaDjPwSmYg"
      },
      "source": [
        "model_cnn.summary()"
      ],
      "execution_count": null,
      "outputs": []
    },
    {
      "cell_type": "code",
      "metadata": {
        "id": "7F_F6COFsgY5"
      },
      "source": [
        "tensorboard_callback = tf.keras.callbacks.TensorBoard(log_dir=\"logs\")"
      ],
      "execution_count": null,
      "outputs": []
    },
    {
      "cell_type": "code",
      "metadata": {
        "id": "VvsKLc4psrUH"
      },
      "source": [
        "#model LSTM\n",
        "num_epochs = 10\n",
        "history = model.fit(training_padded , training_labels , epochs= num_epochs,validation_data=(testing_padded , testing_labels), callbacks=[tensorboard_callback], verbose =2, class_weight= weights )\n",
        "#history = tf.keras.models.load_model('/content/gdrive/My Drive/Colab Notebooks/saved_model/my_model')"
      ],
      "execution_count": null,
      "outputs": []
    },
    {
      "cell_type": "code",
      "metadata": {
        "id": "iHamsVbmVtmb"
      },
      "source": [
        "# model regularization\n",
        "num_epoch =10 \n",
        "history_dropout = model_regularization.fit(training_padded , training_labels , epochs= num_epochs,validation_data=(testing_padded , testing_labels), callbacks=[tensorboard_callback], verbose =2, class_weight= weights )\n",
        "#history_dropout = tf.keras.models.load_model('/content/gdrive/My Drive/Colab Notebooks/saved_model/my_model_dropout')"
      ],
      "execution_count": null,
      "outputs": []
    },
    {
      "cell_type": "code",
      "metadata": {
        "id": "e48iYtEsSwza"
      },
      "source": [
        "#model CNN\n",
        "num_epoch = 10 \n",
        "history_cnn = model_cnn.fit(training_padded , training_labels , epochs= num_epochs,validation_data=(testing_padded , testing_labels), callbacks=[tensorboard_callback], verbose =2, class_weight= weights )"
      ],
      "execution_count": null,
      "outputs": []
    },
    {
      "cell_type": "code",
      "metadata": {
        "id": "peiO2RoFK1XU"
      },
      "source": [
        "## অ্যাক্যুরেসি এবং লস, ম্যাটপ্লটলিব দিয়ে\n",
        "\n",
        "import matplotlib.pyplot as plt\n",
        "\n",
        "def plot_graphs(history, string):\n",
        "  plt.plot(history.history[string])\n",
        "  plt.plot(history.history['val_'+string])\n",
        "  plt.xlabel(\"Epochs\")\n",
        "  plt.ylabel(string)\n",
        "  plt.legend([string, 'val_'+string])\n",
        "  plt.show()\n",
        "\n",
        "#plot for normal LSTM\n",
        "plot_graphs(history, \"accuracy\")\n",
        "plot_graphs(history, \"loss\")\n",
        "\n",
        "#plot for LSTM with dropout\n",
        "plot_graphs(history_dropout, \"accuracy\")\n",
        "plot_graphs(history_dropout, \"loss\")\n",
        "\n",
        "#plot for CNN\n",
        "plot_graphs(history_cnn, \"accuracy\")\n",
        "plot_graphs(history_cnn, \"loss\")\n",
        "\n"
      ],
      "execution_count": null,
      "outputs": []
    },
    {
      "cell_type": "code",
      "metadata": {
        "id": "iefhLw8KQchG"
      },
      "source": [
        "# Define our custom loss function\n",
        "def focal_loss(y_true, y_pred):\n",
        "\n",
        "  gamma= 2.0\n",
        "  alpha = 0.25\n",
        "  pt_1 = tf.where(tf.equal(y_true, 1), y_pred, tf.ones_like(y_pred))\n",
        "  pt_0 = tf.where(tf.equal(y_true, 0), y_pred, tf.zeros_like(y_pred))\n",
        "  return -K.sum(alpha * K.pow(1. - pt_1, gamma) * K.log(pt_1))-K.sum((1-alpha) * K.pow( pt_0, gamma) * K.log(1. - pt_0))\n",
        "\n"
      ],
      "execution_count": null,
      "outputs": []
    },
    {
      "cell_type": "code",
      "metadata": {
        "id": "-AyoC72JQleG"
      },
      "source": [
        ""
      ],
      "execution_count": null,
      "outputs": []
    },
    {
      "cell_type": "code",
      "metadata": {
        "id": "dtBdtPRNCg2W"
      },
      "source": [
        "METRICS = [\n",
        "      keras.metrics.TruePositives(name='tp'),\n",
        "      keras.metrics.FalsePositives(name='fp'),\n",
        "      keras.metrics.TrueNegatives(name='tn'),\n",
        "      keras.metrics.FalseNegatives(name='fn'), \n",
        "      keras.metrics.BinaryAccuracy(name='accuracy'),\n",
        "      keras.metrics.Precision(name='precision'),\n",
        "      keras.metrics.Recall(name='recall'),\n",
        "      keras.metrics.AUC(name='auc'),\n",
        "]\n",
        "\n",
        "model.compile(loss='binary_crossentropy' , optimizer= 'adam' , metrics= METRICS)\n",
        "model_regularization.compile(loss='binary_crossentropy' , optimizer= 'adam' , metrics= METRICS)\n",
        "model_cnn.compile(loss='binary_crossentropy' , optimizer= 'adam' , metrics= METRICS)\n"
      ],
      "execution_count": null,
      "outputs": []
    },
    {
      "cell_type": "code",
      "metadata": {
        "id": "wxEq0OlxbKuF"
      },
      "source": [
        ""
      ],
      "execution_count": null,
      "outputs": []
    },
    {
      "cell_type": "code",
      "metadata": {
        "id": "1S6vfP5kC8t4"
      },
      "source": [
        "num_epochs = 10\n",
        "weighted_history = model.fit(training_padded , training_labels , epochs= num_epochs,validation_data=(testing_padded , testing_labels), callbacks=[tensorboard_callback], verbose =2,class_weight = weights)"
      ],
      "execution_count": null,
      "outputs": []
    },
    {
      "cell_type": "code",
      "metadata": {
        "id": "n9GmqHwrag3E"
      },
      "source": [
        "num_epochs = 10\n",
        "weighted_history_dropout = model_regularization.fit(training_padded , training_labels , epochs= num_epochs,validation_data=(testing_padded , testing_labels), callbacks=[tensorboard_callback], verbose =2,class_weight = weights)"
      ],
      "execution_count": null,
      "outputs": []
    },
    {
      "cell_type": "code",
      "metadata": {
        "id": "6JqzpXhxYTRs"
      },
      "source": [
        "num_epochs = 10\n",
        "weighted_history_cnn = model_regularization.fit(training_padded , training_labels , epochs= num_epochs,validation_data=(testing_padded , testing_labels), callbacks=[tensorboard_callback], verbose =2,class_weight = weights)"
      ],
      "execution_count": null,
      "outputs": []
    },
    {
      "cell_type": "code",
      "metadata": {
        "id": "gyMp3F0vL9N5"
      },
      "source": [
        "import matplotlib as mpl\n",
        "import matplotlib.pyplot as plt\n",
        "import numpy as np\n",
        "import pandas as pd\n",
        "import seaborn as sns\n",
        "\n",
        "import sklearn\n",
        "from sklearn.metrics import confusion_matrix\n",
        "from sklearn.model_selection import train_test_split\n",
        "from sklearn.preprocessing import StandardScaler\n"
      ],
      "execution_count": null,
      "outputs": []
    },
    {
      "cell_type": "code",
      "metadata": {
        "id": "QPx5Kx6qagCq"
      },
      "source": [
        ""
      ],
      "execution_count": null,
      "outputs": []
    },
    {
      "cell_type": "code",
      "metadata": {
        "id": "jdJn3eTR8i6p"
      },
      "source": [
        "mpl.rcParams['figure.figsize'] = (12, 10)\n",
        "colors = plt.rcParams['axes.prop_cycle'].by_key()['color']\n"
      ],
      "execution_count": null,
      "outputs": []
    },
    {
      "cell_type": "code",
      "metadata": {
        "id": "Rpnyv4B3JcN8"
      },
      "source": [
        "def plot_metrics(history):\n",
        "  metrics = ['loss', 'auc', 'precision', 'recall']\n",
        "  for n, metric in enumerate(metrics):\n",
        "    name = metric.replace(\"_\",\" \").capitalize()\n",
        "    plt.subplot(2,2,n+1)\n",
        "    plt.plot(history.epoch, history.history[metric], color=colors[0], label='Train')\n",
        "    plt.plot(history.epoch, history.history['val_'+metric],\n",
        "             color=colors[0], linestyle=\"--\", label='Val')\n",
        "    plt.xlabel('Epoch')\n",
        "    plt.ylabel(name)\n",
        "    if metric == 'loss':\n",
        "      plt.ylim([0, plt.ylim()[1]])\n",
        "    elif metric == 'auc':\n",
        "      plt.ylim([0.8,1])\n",
        "    else:\n",
        "      plt.ylim([0,1])\n",
        "\n",
        "    plt.legend()\n"
      ],
      "execution_count": null,
      "outputs": []
    },
    {
      "cell_type": "code",
      "metadata": {
        "id": "zwZL_o61J5Zw"
      },
      "source": [
        "\n",
        "def plot_cm(labels, predictions, p=0.5):\n",
        "  cm = confusion_matrix(labels, predictions > p)\n",
        "  plt.figure(figsize=(5,5))\n",
        "  sns.heatmap(cm, annot=True, fmt=\"d\")\n",
        "  plt.title('Confusion matrix @{:.2f}'.format(p))\n",
        "  plt.ylabel('Actual label')\n",
        "  plt.xlabel('Predicted label')\n",
        "\n",
        "  print('Legitimate Transactions Detected (True Negatives): ', cm[0][0])\n",
        "  print('Legitimate Transactions Incorrectly Detected (False Positives): ', cm[0][1])\n",
        "  print('Fraudulent Transactions Missed (False Negatives): ', cm[1][0])\n",
        "  print('Fraudulent Transactions Detected (True Positives): ', cm[1][1])\n",
        "  print('Total Fraudulent Transactions: ', np.sum(cm[1]))\n"
      ],
      "execution_count": null,
      "outputs": []
    },
    {
      "cell_type": "code",
      "metadata": {
        "id": "f7kEx81UJt8c"
      },
      "source": [
        "#plot for LSTM\n",
        "plot_metrics(weighted_history)\n"
      ],
      "execution_count": null,
      "outputs": []
    },
    {
      "cell_type": "code",
      "metadata": {
        "id": "a5h9UuoMYqJm"
      },
      "source": [
        ""
      ],
      "execution_count": null,
      "outputs": []
    },
    {
      "cell_type": "code",
      "metadata": {
        "id": "yTQizG6Cc2zn"
      },
      "source": [
        "#plot for LSTM (with Dropout)\n",
        "plot_metrics(weighted_history_dropout)"
      ],
      "execution_count": null,
      "outputs": []
    },
    {
      "cell_type": "code",
      "metadata": {
        "id": "u06O3Ew9YsuI"
      },
      "source": [
        "plot_metrics(weighted_history_cnn)"
      ],
      "execution_count": null,
      "outputs": []
    },
    {
      "cell_type": "code",
      "metadata": {
        "id": "y0eAHH9xYmjx"
      },
      "source": [
        ""
      ],
      "execution_count": null,
      "outputs": []
    },
    {
      "cell_type": "markdown",
      "metadata": {
        "id": "yxJsGkaWYiv6"
      },
      "source": [
        ""
      ]
    },
    {
      "cell_type": "code",
      "metadata": {
        "id": "wk9qM7O4KDCJ"
      },
      "source": [
        "# for LSTM\n",
        "test_predictions_baseline = model.predict(testing_padded, batch_size=1000)\n",
        "\n",
        "baseline_results = model.evaluate(testing_padded , testing_labels,\n",
        "                                  batch_size=1000, verbose=0)\n",
        "for name, value in zip(model.metrics_names, baseline_results):\n",
        "  print(name, ': ', value)\n",
        "print()\n",
        "\n",
        "plot_cm(testing_labels, test_predictions_baseline)\n"
      ],
      "execution_count": null,
      "outputs": []
    },
    {
      "cell_type": "code",
      "metadata": {
        "id": "J2im_tehb2mF"
      },
      "source": [
        "# for LSTM(dropout)\n",
        "test_predictions_baseline = model_regularization.predict(testing_padded, batch_size=1000)\n",
        "\n",
        "baseline_results = model_regularization.evaluate(testing_padded , testing_labels,\n",
        "                                  batch_size=1000, verbose=0)\n",
        "for name, value in zip(model_regularization.metrics_names, baseline_results):\n",
        "  print(name, ': ', value)\n",
        "print()\n",
        "\n",
        "plot_cm(testing_labels, test_predictions_baseline)"
      ],
      "execution_count": null,
      "outputs": []
    },
    {
      "cell_type": "code",
      "metadata": {
        "id": "dXAo5MHGY3y7"
      },
      "source": [
        "# for CNN\n",
        "test_predictions_baseline = model_cnn.predict(testing_padded, batch_size=1000)\n",
        "\n",
        "baseline_results = model_cnn.evaluate(testing_padded , testing_labels,\n",
        "                                  batch_size=1000, verbose=0)\n",
        "for name, value in zip(model_cnn.metrics_names, baseline_results):\n",
        "  print(name, ': ', value)\n",
        "print()\n",
        "\n",
        "plot_cm(testing_labels, test_predictions_baseline)"
      ],
      "execution_count": null,
      "outputs": []
    },
    {
      "cell_type": "code",
      "metadata": {
        "id": "TN1vBPwltU6B"
      },
      "source": [
        "from google.colab import drive\n",
        "drive.mount('/content/gdrive')"
      ],
      "execution_count": null,
      "outputs": []
    },
    {
      "cell_type": "code",
      "metadata": {
        "id": "qK0FqoNbUIIl"
      },
      "source": [
        "!mkdir -p '/content/gdrive/My Drive/Colab Notebooks/saved_model/'"
      ],
      "execution_count": null,
      "outputs": []
    },
    {
      "cell_type": "code",
      "metadata": {
        "id": "vgUIWQJuUcNW"
      },
      "source": [
        "\n",
        "\n",
        "model.save('/content/gdrive/My Drive/Colab Notebooks/saved_model/my_model')\n",
        "\n"
      ],
      "execution_count": null,
      "outputs": []
    },
    {
      "cell_type": "code",
      "metadata": {
        "id": "Q3AvWTUcUl1O"
      },
      "source": [
        "model_regularization.save('/content/gdrive/My Drive/Colab Notebooks/saved_model/my_model_dropout')"
      ],
      "execution_count": null,
      "outputs": []
    },
    {
      "cell_type": "code",
      "metadata": {
        "id": "imxLesQfUwqZ"
      },
      "source": [
        "# embedding save\n",
        "\n",
        "weights = model.get_layer('embedding_2').get_weights()[0]\n",
        "#shape should be (vocab_size , embedding_dim)\n",
        "print(weights.shape)"
      ],
      "execution_count": null,
      "outputs": []
    },
    {
      "cell_type": "code",
      "metadata": {
        "id": "_bV69U6Sh_5P"
      },
      "source": [
        "reverse_word_index = dict([(value, key) for (key, value) in tokenizer.word_index.items()])\n",
        "\n",
        "def decode_sentence(text):\n",
        "    return ' '.join([reverse_word_index.get(i, '?') for i in text])\n",
        "\n",
        "print(decode_sentence(training_padded[0]))\n",
        "print(training_sentences[2])\n",
        "print(training_labels[2])"
      ],
      "execution_count": null,
      "outputs": []
    },
    {
      "cell_type": "code",
      "metadata": {
        "id": "K1CMjrYDh_82"
      },
      "source": [
        ""
      ],
      "execution_count": null,
      "outputs": []
    },
    {
      "cell_type": "code",
      "metadata": {
        "id": "GoKJ14QXh__n"
      },
      "source": [
        ""
      ],
      "execution_count": null,
      "outputs": []
    },
    {
      "cell_type": "code",
      "metadata": {
        "id": "ECe-nWpJiACP"
      },
      "source": [
        ""
      ],
      "execution_count": null,
      "outputs": []
    },
    {
      "cell_type": "code",
      "metadata": {
        "id": "4ZqWCj9DiAFa"
      },
      "source": [
        ""
      ],
      "execution_count": null,
      "outputs": []
    },
    {
      "cell_type": "code",
      "metadata": {
        "id": "ft0gKOhEiAIc"
      },
      "source": [
        ""
      ],
      "execution_count": null,
      "outputs": []
    },
    {
      "cell_type": "markdown",
      "metadata": {
        "id": "pVlrm-8soDpa"
      },
      "source": [
        ""
      ]
    }
  ]
}