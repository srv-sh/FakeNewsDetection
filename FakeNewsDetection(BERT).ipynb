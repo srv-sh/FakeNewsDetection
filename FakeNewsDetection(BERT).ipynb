{
  "nbformat": 4,
  "nbformat_minor": 0,
  "metadata": {
    "colab": {
      "name": "FakeNewsDetection(BERT).ipynb",
      "provenance": [],
      "collapsed_sections": [],
      "include_colab_link": true
    },
    "kernelspec": {
      "name": "python3",
      "display_name": "Python 3"
    },
    "language_info": {
      "name": "python"
    },
    "accelerator": "GPU"
  },
  "cells": [
    {
      "cell_type": "markdown",
      "metadata": {
        "id": "view-in-github",
        "colab_type": "text"
      },
      "source": [
        "<a href=\"https://colab.research.google.com/github/srv-sh/FakeNewsDetection/blob/main/FakeNewsDetection(BERT).ipynb\" target=\"_parent\"><img src=\"https://colab.research.google.com/assets/colab-badge.svg\" alt=\"Open In Colab\"/></a>"
      ]
    },
    {
      "cell_type": "code",
      "metadata": {
        "id": "4vieQhdHEUuh"
      },
      "source": [
        "import os\n",
        "os.environ['KAGGLE_USERNAME'] = \"souravsaha058\" # জেসন ফাইল থেকে আইডিটা নিয়ে আসুন\n",
        "os.environ['KAGGLE_KEY'] = \"be092deadd788c30f54a1e93e250d3ae\" # আপনার ক্যাগল কী\n"
      ],
      "execution_count": 1,
      "outputs": []
    },
    {
      "cell_type": "code",
      "metadata": {
        "colab": {
          "base_uri": "https://localhost:8080/"
        },
        "id": "I7UCn7moIGfm",
        "outputId": "e2c95622-a3e9-4c3f-9c66-6fe77eef8bf9"
      },
      "source": [
        "# install ktrain\n",
        "!pip install ktrain"
      ],
      "execution_count": 2,
      "outputs": [
        {
          "output_type": "stream",
          "text": [
            "Collecting ktrain\n",
            "\u001b[?25l  Downloading https://files.pythonhosted.org/packages/99/67/31cab9d7c0e23333aebc28b082659c1528f9ab7e22d00e7237efe4fc14f6/ktrain-0.26.2.tar.gz (25.3MB)\n",
            "\u001b[K     |████████████████████████████████| 25.3MB 125kB/s \n",
            "\u001b[?25hCollecting scikit-learn==0.23.2\n",
            "\u001b[?25l  Downloading https://files.pythonhosted.org/packages/f4/cb/64623369f348e9bfb29ff898a57ac7c91ed4921f228e9726546614d63ccb/scikit_learn-0.23.2-cp37-cp37m-manylinux1_x86_64.whl (6.8MB)\n",
            "\u001b[K     |████████████████████████████████| 6.8MB 56.8MB/s \n",
            "\u001b[?25hRequirement already satisfied: matplotlib>=3.0.0 in /usr/local/lib/python3.7/dist-packages (from ktrain) (3.2.2)\n",
            "Requirement already satisfied: pandas>=1.0.1 in /usr/local/lib/python3.7/dist-packages (from ktrain) (1.1.5)\n",
            "Requirement already satisfied: fastprogress>=0.1.21 in /usr/local/lib/python3.7/dist-packages (from ktrain) (1.0.0)\n",
            "Requirement already satisfied: requests in /usr/local/lib/python3.7/dist-packages (from ktrain) (2.23.0)\n",
            "Requirement already satisfied: joblib in /usr/local/lib/python3.7/dist-packages (from ktrain) (1.0.1)\n",
            "Requirement already satisfied: packaging in /usr/local/lib/python3.7/dist-packages (from ktrain) (20.9)\n",
            "Requirement already satisfied: ipython in /usr/local/lib/python3.7/dist-packages (from ktrain) (5.5.0)\n",
            "Collecting langdetect\n",
            "\u001b[?25l  Downloading https://files.pythonhosted.org/packages/56/a3/8407c1e62d5980188b4acc45ef3d94b933d14a2ebc9ef3505f22cf772570/langdetect-1.0.8.tar.gz (981kB)\n",
            "\u001b[K     |████████████████████████████████| 983kB 47.2MB/s \n",
            "\u001b[?25hRequirement already satisfied: jieba in /usr/local/lib/python3.7/dist-packages (from ktrain) (0.42.1)\n",
            "Collecting cchardet\n",
            "\u001b[?25l  Downloading https://files.pythonhosted.org/packages/80/72/a4fba7559978de00cf44081c548c5d294bf00ac7dcda2db405d2baa8c67a/cchardet-2.1.7-cp37-cp37m-manylinux2010_x86_64.whl (263kB)\n",
            "\u001b[K     |████████████████████████████████| 266kB 54.5MB/s \n",
            "\u001b[?25hCollecting syntok\n",
            "  Downloading https://files.pythonhosted.org/packages/8c/76/a49e73a04b3e3a14ce232e8e28a1587f8108baa665644fe8c40e307e792e/syntok-1.3.1.tar.gz\n",
            "Collecting seqeval==0.0.19\n",
            "  Downloading https://files.pythonhosted.org/packages/93/e5/b7705156a77f742cfe4fc6f22d0c71591edb2d243328dff2f8fc0f933ab6/seqeval-0.0.19.tar.gz\n",
            "Collecting transformers<=4.3.3,>=4.0.0\n",
            "\u001b[?25l  Downloading https://files.pythonhosted.org/packages/f9/54/5ca07ec9569d2f232f3166de5457b63943882f7950ddfcc887732fc7fb23/transformers-4.3.3-py3-none-any.whl (1.9MB)\n",
            "\u001b[K     |████████████████████████████████| 1.9MB 42.4MB/s \n",
            "\u001b[?25hCollecting sentencepiece\n",
            "\u001b[?25l  Downloading https://files.pythonhosted.org/packages/f5/99/e0808cb947ba10f575839c43e8fafc9cc44e4a7a2c8f79c60db48220a577/sentencepiece-0.1.95-cp37-cp37m-manylinux2014_x86_64.whl (1.2MB)\n",
            "\u001b[K     |████████████████████████████████| 1.2MB 44.0MB/s \n",
            "\u001b[?25hCollecting keras_bert>=0.86.0\n",
            "  Downloading https://files.pythonhosted.org/packages/e2/7f/95fabd29f4502924fa3f09ff6538c5a7d290dfef2c2fe076d3d1a16e08f0/keras-bert-0.86.0.tar.gz\n",
            "Requirement already satisfied: networkx>=2.3 in /usr/local/lib/python3.7/dist-packages (from ktrain) (2.5)\n",
            "Collecting whoosh\n",
            "\u001b[?25l  Downloading https://files.pythonhosted.org/packages/ba/19/24d0f1f454a2c1eb689ca28d2f178db81e5024f42d82729a4ff6771155cf/Whoosh-2.7.4-py2.py3-none-any.whl (468kB)\n",
            "\u001b[K     |████████████████████████████████| 471kB 53.5MB/s \n",
            "\u001b[?25hCollecting threadpoolctl>=2.0.0\n",
            "  Downloading https://files.pythonhosted.org/packages/f7/12/ec3f2e203afa394a149911729357aa48affc59c20e2c1c8297a60f33f133/threadpoolctl-2.1.0-py3-none-any.whl\n",
            "Requirement already satisfied: scipy>=0.19.1 in /usr/local/lib/python3.7/dist-packages (from scikit-learn==0.23.2->ktrain) (1.4.1)\n",
            "Requirement already satisfied: numpy>=1.13.3 in /usr/local/lib/python3.7/dist-packages (from scikit-learn==0.23.2->ktrain) (1.19.5)\n",
            "Requirement already satisfied: cycler>=0.10 in /usr/local/lib/python3.7/dist-packages (from matplotlib>=3.0.0->ktrain) (0.10.0)\n",
            "Requirement already satisfied: pyparsing!=2.0.4,!=2.1.2,!=2.1.6,>=2.0.1 in /usr/local/lib/python3.7/dist-packages (from matplotlib>=3.0.0->ktrain) (2.4.7)\n",
            "Requirement already satisfied: python-dateutil>=2.1 in /usr/local/lib/python3.7/dist-packages (from matplotlib>=3.0.0->ktrain) (2.8.1)\n",
            "Requirement already satisfied: kiwisolver>=1.0.1 in /usr/local/lib/python3.7/dist-packages (from matplotlib>=3.0.0->ktrain) (1.3.1)\n",
            "Requirement already satisfied: pytz>=2017.2 in /usr/local/lib/python3.7/dist-packages (from pandas>=1.0.1->ktrain) (2018.9)\n",
            "Requirement already satisfied: certifi>=2017.4.17 in /usr/local/lib/python3.7/dist-packages (from requests->ktrain) (2020.12.5)\n",
            "Requirement already satisfied: idna<3,>=2.5 in /usr/local/lib/python3.7/dist-packages (from requests->ktrain) (2.10)\n",
            "Requirement already satisfied: chardet<4,>=3.0.2 in /usr/local/lib/python3.7/dist-packages (from requests->ktrain) (3.0.4)\n",
            "Requirement already satisfied: urllib3!=1.25.0,!=1.25.1,<1.26,>=1.21.1 in /usr/local/lib/python3.7/dist-packages (from requests->ktrain) (1.24.3)\n",
            "Requirement already satisfied: decorator in /usr/local/lib/python3.7/dist-packages (from ipython->ktrain) (4.4.2)\n",
            "Requirement already satisfied: simplegeneric>0.8 in /usr/local/lib/python3.7/dist-packages (from ipython->ktrain) (0.8.1)\n",
            "Requirement already satisfied: pexpect; sys_platform != \"win32\" in /usr/local/lib/python3.7/dist-packages (from ipython->ktrain) (4.8.0)\n",
            "Requirement already satisfied: setuptools>=18.5 in /usr/local/lib/python3.7/dist-packages (from ipython->ktrain) (54.2.0)\n",
            "Requirement already satisfied: prompt-toolkit<2.0.0,>=1.0.4 in /usr/local/lib/python3.7/dist-packages (from ipython->ktrain) (1.0.18)\n",
            "Requirement already satisfied: pickleshare in /usr/local/lib/python3.7/dist-packages (from ipython->ktrain) (0.7.5)\n",
            "Requirement already satisfied: traitlets>=4.2 in /usr/local/lib/python3.7/dist-packages (from ipython->ktrain) (5.0.5)\n",
            "Requirement already satisfied: pygments in /usr/local/lib/python3.7/dist-packages (from ipython->ktrain) (2.6.1)\n",
            "Requirement already satisfied: six in /usr/local/lib/python3.7/dist-packages (from langdetect->ktrain) (1.15.0)\n",
            "Requirement already satisfied: regex in /usr/local/lib/python3.7/dist-packages (from syntok->ktrain) (2019.12.20)\n",
            "Requirement already satisfied: Keras>=2.2.4 in /usr/local/lib/python3.7/dist-packages (from seqeval==0.0.19->ktrain) (2.4.3)\n",
            "Requirement already satisfied: filelock in /usr/local/lib/python3.7/dist-packages (from transformers<=4.3.3,>=4.0.0->ktrain) (3.0.12)\n",
            "Requirement already satisfied: tqdm>=4.27 in /usr/local/lib/python3.7/dist-packages (from transformers<=4.3.3,>=4.0.0->ktrain) (4.41.1)\n",
            "Requirement already satisfied: importlib-metadata; python_version < \"3.8\" in /usr/local/lib/python3.7/dist-packages (from transformers<=4.3.3,>=4.0.0->ktrain) (3.8.1)\n",
            "Collecting sacremoses\n",
            "\u001b[?25l  Downloading https://files.pythonhosted.org/packages/08/cd/342e584ee544d044fb573ae697404ce22ede086c9e87ce5960772084cad0/sacremoses-0.0.44.tar.gz (862kB)\n",
            "\u001b[K     |████████████████████████████████| 870kB 47.1MB/s \n",
            "\u001b[?25hCollecting tokenizers<0.11,>=0.10.1\n",
            "\u001b[?25l  Downloading https://files.pythonhosted.org/packages/ae/04/5b870f26a858552025a62f1649c20d29d2672c02ff3c3fb4c688ca46467a/tokenizers-0.10.2-cp37-cp37m-manylinux2010_x86_64.whl (3.3MB)\n",
            "\u001b[K     |████████████████████████████████| 3.3MB 44.6MB/s \n",
            "\u001b[?25hCollecting keras-transformer>=0.38.0\n",
            "  Downloading https://files.pythonhosted.org/packages/89/6c/d6f0c164f4cc16fbc0d0fea85f5526e87a7d2df7b077809e422a7e626150/keras-transformer-0.38.0.tar.gz\n",
            "Requirement already satisfied: ptyprocess>=0.5 in /usr/local/lib/python3.7/dist-packages (from pexpect; sys_platform != \"win32\"->ipython->ktrain) (0.7.0)\n",
            "Requirement already satisfied: wcwidth in /usr/local/lib/python3.7/dist-packages (from prompt-toolkit<2.0.0,>=1.0.4->ipython->ktrain) (0.2.5)\n",
            "Requirement already satisfied: ipython-genutils in /usr/local/lib/python3.7/dist-packages (from traitlets>=4.2->ipython->ktrain) (0.2.0)\n",
            "Requirement already satisfied: h5py in /usr/local/lib/python3.7/dist-packages (from Keras>=2.2.4->seqeval==0.0.19->ktrain) (2.10.0)\n",
            "Requirement already satisfied: pyyaml in /usr/local/lib/python3.7/dist-packages (from Keras>=2.2.4->seqeval==0.0.19->ktrain) (3.13)\n",
            "Requirement already satisfied: typing-extensions>=3.6.4; python_version < \"3.8\" in /usr/local/lib/python3.7/dist-packages (from importlib-metadata; python_version < \"3.8\"->transformers<=4.3.3,>=4.0.0->ktrain) (3.7.4.3)\n",
            "Requirement already satisfied: zipp>=0.5 in /usr/local/lib/python3.7/dist-packages (from importlib-metadata; python_version < \"3.8\"->transformers<=4.3.3,>=4.0.0->ktrain) (3.4.1)\n",
            "Requirement already satisfied: click in /usr/local/lib/python3.7/dist-packages (from sacremoses->transformers<=4.3.3,>=4.0.0->ktrain) (7.1.2)\n",
            "Collecting keras-pos-embd>=0.11.0\n",
            "  Downloading https://files.pythonhosted.org/packages/09/70/b63ed8fc660da2bb6ae29b9895401c628da5740c048c190b5d7107cadd02/keras-pos-embd-0.11.0.tar.gz\n",
            "Collecting keras-multi-head>=0.27.0\n",
            "  Downloading https://files.pythonhosted.org/packages/e6/32/45adf2549450aca7867deccfa04af80a0ab1ca139af44b16bc669e0e09cd/keras-multi-head-0.27.0.tar.gz\n",
            "Collecting keras-layer-normalization>=0.14.0\n",
            "  Downloading https://files.pythonhosted.org/packages/a4/0e/d1078df0494bac9ce1a67954e5380b6e7569668f0f3b50a9531c62c1fc4a/keras-layer-normalization-0.14.0.tar.gz\n",
            "Collecting keras-position-wise-feed-forward>=0.6.0\n",
            "  Downloading https://files.pythonhosted.org/packages/e3/59/f0faa1037c033059e7e9e7758e6c23b4d1c0772cd48de14c4b6fd4033ad5/keras-position-wise-feed-forward-0.6.0.tar.gz\n",
            "Collecting keras-embed-sim>=0.8.0\n",
            "  Downloading https://files.pythonhosted.org/packages/57/ef/61a1e39082c9e1834a2d09261d4a0b69f7c818b359216d4e1912b20b1c86/keras-embed-sim-0.8.0.tar.gz\n",
            "Collecting keras-self-attention==0.46.0\n",
            "  Downloading https://files.pythonhosted.org/packages/15/6b/c804924a056955fa1f3ff767945187103cfc851ba9bd0fc5a6c6bc18e2eb/keras-self-attention-0.46.0.tar.gz\n",
            "Building wheels for collected packages: ktrain, langdetect, syntok, seqeval, keras-bert, sacremoses, keras-transformer, keras-pos-embd, keras-multi-head, keras-layer-normalization, keras-position-wise-feed-forward, keras-embed-sim, keras-self-attention\n",
            "  Building wheel for ktrain (setup.py) ... \u001b[?25l\u001b[?25hdone\n",
            "  Created wheel for ktrain: filename=ktrain-0.26.2-cp37-none-any.whl size=25277794 sha256=1246c906a6acc51bac31be8efaf1ba51397d5be25557f9c9619a94bba070ff69\n",
            "  Stored in directory: /root/.cache/pip/wheels/67/2e/f1/c72afa08df8b2d984b910dea228902ce81dae4511afe9fafd2\n",
            "  Building wheel for langdetect (setup.py) ... \u001b[?25l\u001b[?25hdone\n",
            "  Created wheel for langdetect: filename=langdetect-1.0.8-cp37-none-any.whl size=993193 sha256=5067cd647e3045ece4710039346acff51a66b42c095fb138bf226f2999ccc2ea\n",
            "  Stored in directory: /root/.cache/pip/wheels/8d/b3/aa/6d99de9f3841d7d3d40a60ea06e6d669e8e5012e6c8b947a57\n",
            "  Building wheel for syntok (setup.py) ... \u001b[?25l\u001b[?25hdone\n",
            "  Created wheel for syntok: filename=syntok-1.3.1-cp37-none-any.whl size=20919 sha256=850ed58043dfe917a1047be31abd4a057d17b532554945aa4eab486853b9d5bc\n",
            "  Stored in directory: /root/.cache/pip/wheels/51/c6/a4/be1920586c49469846bcd2888200bdecfe109ec421dab9be2d\n",
            "  Building wheel for seqeval (setup.py) ... \u001b[?25l\u001b[?25hdone\n",
            "  Created wheel for seqeval: filename=seqeval-0.0.19-cp37-none-any.whl size=9919 sha256=d9aa8d8ca806ac98c3dcc7b057a637cb06f23e4389865dfa6209c2132941897d\n",
            "  Stored in directory: /root/.cache/pip/wheels/8d/1f/bf/1198beceed805a2099060975f6281d1b01046dd279e19c97be\n",
            "  Building wheel for keras-bert (setup.py) ... \u001b[?25l\u001b[?25hdone\n",
            "  Created wheel for keras-bert: filename=keras_bert-0.86.0-cp37-none-any.whl size=34144 sha256=ecaf5e5d776e3f5050f4d64fd3017a4a659e05022f3b70a8b30cfcc20a6b2f1f\n",
            "  Stored in directory: /root/.cache/pip/wheels/66/f0/b1/748128b58562fc9e31b907bb5e2ab6a35eb37695e83911236b\n",
            "  Building wheel for sacremoses (setup.py) ... \u001b[?25l\u001b[?25hdone\n",
            "  Created wheel for sacremoses: filename=sacremoses-0.0.44-cp37-none-any.whl size=886084 sha256=21cd1662f21df237068165bd5db6dac490a7da5e523316f21eb21c2bf7200e32\n",
            "  Stored in directory: /root/.cache/pip/wheels/3e/fb/c0/13ab4d63d537658f448366744654323077c4d90069b6512f3c\n",
            "  Building wheel for keras-transformer (setup.py) ... \u001b[?25l\u001b[?25hdone\n",
            "  Created wheel for keras-transformer: filename=keras_transformer-0.38.0-cp37-none-any.whl size=12942 sha256=289c20652474b850161e49ee194847c57e65fc868a2693e1bdafeafaab59916a\n",
            "  Stored in directory: /root/.cache/pip/wheels/e5/fb/3a/37b2b9326c799aa010ae46a04ddb04f320d8c77c0b7e837f4e\n",
            "  Building wheel for keras-pos-embd (setup.py) ... \u001b[?25l\u001b[?25hdone\n",
            "  Created wheel for keras-pos-embd: filename=keras_pos_embd-0.11.0-cp37-none-any.whl size=7554 sha256=e7ff4e4a079afba8e1b66015f34904062937036d3b673fe4ee4e02f29a8b7d78\n",
            "  Stored in directory: /root/.cache/pip/wheels/5b/a1/a0/ce6b1d49ba1a9a76f592e70cf297b05c96bc9f418146761032\n",
            "  Building wheel for keras-multi-head (setup.py) ... \u001b[?25l\u001b[?25hdone\n",
            "  Created wheel for keras-multi-head: filename=keras_multi_head-0.27.0-cp37-none-any.whl size=15611 sha256=3848f82b862712113ea58da4b2232758bb897fd5ab768a6dc4b0f97535a6b6c9\n",
            "  Stored in directory: /root/.cache/pip/wheels/b5/b4/49/0a0c27dcb93c13af02fea254ff51d1a43a924dd4e5b7a7164d\n",
            "  Building wheel for keras-layer-normalization (setup.py) ... \u001b[?25l\u001b[?25hdone\n",
            "  Created wheel for keras-layer-normalization: filename=keras_layer_normalization-0.14.0-cp37-none-any.whl size=5269 sha256=732f8e01d2250cc4b43a7fc1d850981556b635e282cbe01bb087c0109c83319e\n",
            "  Stored in directory: /root/.cache/pip/wheels/54/80/22/a638a7d406fd155e507aa33d703e3fa2612b9eb7bb4f4fe667\n",
            "  Building wheel for keras-position-wise-feed-forward (setup.py) ... \u001b[?25l\u001b[?25hdone\n",
            "  Created wheel for keras-position-wise-feed-forward: filename=keras_position_wise_feed_forward-0.6.0-cp37-none-any.whl size=5623 sha256=0fce44da1a794f2131c4292fe7c627831b0b042a14f91b9da76820e5bdcd8289\n",
            "  Stored in directory: /root/.cache/pip/wheels/39/e2/e2/3514fef126a00574b13bc0b9e23891800158df3a3c19c96e3b\n",
            "  Building wheel for keras-embed-sim (setup.py) ... \u001b[?25l\u001b[?25hdone\n",
            "  Created wheel for keras-embed-sim: filename=keras_embed_sim-0.8.0-cp37-none-any.whl size=4558 sha256=16390a9f2fb22ee2f7d30529bcf37964c6108b96b84b31d7f0b4272e4b3e6120\n",
            "  Stored in directory: /root/.cache/pip/wheels/49/45/8b/c111f6cc8bec253e984677de73a6f4f5d2f1649f42aac191c8\n",
            "  Building wheel for keras-self-attention (setup.py) ... \u001b[?25l\u001b[?25hdone\n",
            "  Created wheel for keras-self-attention: filename=keras_self_attention-0.46.0-cp37-none-any.whl size=17278 sha256=5061e85e70d6a2c71eec860657668a78ab8a8ba6e11f7baac9e4d2cde827deb6\n",
            "  Stored in directory: /root/.cache/pip/wheels/d2/2e/80/fec4c05eb23c8e13b790e26d207d6e0ffe8013fad8c6bdd4d2\n",
            "Successfully built ktrain langdetect syntok seqeval keras-bert sacremoses keras-transformer keras-pos-embd keras-multi-head keras-layer-normalization keras-position-wise-feed-forward keras-embed-sim keras-self-attention\n",
            "Installing collected packages: threadpoolctl, scikit-learn, langdetect, cchardet, syntok, seqeval, sacremoses, tokenizers, transformers, sentencepiece, keras-pos-embd, keras-self-attention, keras-multi-head, keras-layer-normalization, keras-position-wise-feed-forward, keras-embed-sim, keras-transformer, keras-bert, whoosh, ktrain\n",
            "  Found existing installation: scikit-learn 0.22.2.post1\n",
            "    Uninstalling scikit-learn-0.22.2.post1:\n",
            "      Successfully uninstalled scikit-learn-0.22.2.post1\n",
            "Successfully installed cchardet-2.1.7 keras-bert-0.86.0 keras-embed-sim-0.8.0 keras-layer-normalization-0.14.0 keras-multi-head-0.27.0 keras-pos-embd-0.11.0 keras-position-wise-feed-forward-0.6.0 keras-self-attention-0.46.0 keras-transformer-0.38.0 ktrain-0.26.2 langdetect-1.0.8 sacremoses-0.0.44 scikit-learn-0.23.2 sentencepiece-0.1.95 seqeval-0.0.19 syntok-1.3.1 threadpoolctl-2.1.0 tokenizers-0.10.2 transformers-4.3.3 whoosh-2.7.4\n"
          ],
          "name": "stdout"
        }
      ]
    },
    {
      "cell_type": "code",
      "metadata": {
        "id": "2r-d2_0sH-G7"
      },
      "source": [
        "#Import all the librery\n",
        "import tensorflow as tf\n",
        "import pandas as pd\n",
        "import numpy as np\n",
        "import ktrain\n",
        "\n",
        "from ktrain import text\n",
        "\n"
      ],
      "execution_count": 3,
      "outputs": []
    },
    {
      "cell_type": "code",
      "metadata": {
        "colab": {
          "base_uri": "https://localhost:8080/"
        },
        "id": "5a2qaxDGEyDz",
        "outputId": "52283b05-5bc9-4ac6-8f88-4a964b576e0e"
      },
      "source": [
        "# get the data from keras\n",
        "!kaggle datasets files cryptexcode/banfakenews\n"
      ],
      "execution_count": 4,
      "outputs": [
        {
          "output_type": "stream",
          "text": [
            "Warning: Looks like you're using an outdated API Version, please consider updating (server 1.5.12 / client 1.5.4)\n",
            "name                      size  creationDate         \n",
            "-----------------------  -----  -------------------  \n",
            "LabeledFake-1K.csv         6MB  2021-03-10 05:41:02  \n",
            "Authentic-48K.csv        233MB  2021-03-10 05:41:02  \n",
            "LabeledAuthentic-7K.csv   33MB  2021-03-10 05:41:02  \n",
            "Fake-1K.csv                6MB  2021-03-10 05:41:02  \n"
          ],
          "name": "stdout"
        }
      ]
    },
    {
      "cell_type": "code",
      "metadata": {
        "colab": {
          "base_uri": "https://localhost:8080/"
        },
        "id": "A10YygumFbhh",
        "outputId": "34480f04-f3c5-42aa-e1df-a84d64c33403"
      },
      "source": [
        "#download the data from keras\n",
        "!kaggle datasets download -d cryptexcode/banfakenews"
      ],
      "execution_count": 5,
      "outputs": [
        {
          "output_type": "stream",
          "text": [
            "Downloading banfakenews.zip to /content\n",
            " 93% 57.0M/61.5M [00:00<00:00, 63.8MB/s]\n",
            "100% 61.5M/61.5M [00:00<00:00, 70.4MB/s]\n"
          ],
          "name": "stdout"
        }
      ]
    },
    {
      "cell_type": "code",
      "metadata": {
        "colab": {
          "base_uri": "https://localhost:8080/"
        },
        "id": "IEhlnTu1Fh0u",
        "outputId": "30f5ded1-557e-40b0-ba89-f87238847611"
      },
      "source": [
        "#unZip the data\n",
        "!unzip banfakenews.zip\n"
      ],
      "execution_count": 6,
      "outputs": [
        {
          "output_type": "stream",
          "text": [
            "Archive:  banfakenews.zip\n",
            "  inflating: Authentic-48K.csv       \n",
            "  inflating: Fake-1K.csv             \n",
            "  inflating: LabeledAuthentic-7K.csv  \n",
            "  inflating: LabeledFake-1K.csv      \n"
          ],
          "name": "stdout"
        }
      ]
    },
    {
      "cell_type": "code",
      "metadata": {
        "colab": {
          "base_uri": "https://localhost:8080/"
        },
        "id": "zPE2IxCrFsvY",
        "outputId": "7df6d22b-5707-403f-adf5-a1eb11797b54"
      },
      "source": [
        "from google.colab import drive\n",
        "drive.mount('/content/drive')"
      ],
      "execution_count": 8,
      "outputs": [
        {
          "output_type": "stream",
          "text": [
            "Drive already mounted at /content/drive; to attempt to forcibly remount, call drive.mount(\"/content/drive\", force_remount=True).\n"
          ],
          "name": "stdout"
        }
      ]
    },
    {
      "cell_type": "code",
      "metadata": {
        "id": "KV5U33_UFy2o"
      },
      "source": [
        "#Import data\n",
        "import pandas as pd \n",
        "df1 = pd.read_csv(\"/content/Authentic-48K.csv\")\n",
        "df2 = pd.read_csv(\"/content/Fake-1K.csv\")\n",
        "df3 = pd.read_csv(\"/content/LabeledAuthentic-7K.csv\")\n",
        "df4 = pd.read_csv(\"/content/LabeledFake-1K.csv\")\n",
        "df5 = pd.read_csv(\"/content/drive/MyDrive/data/Fake1k.csv\") # this data is from another dataset\n",
        "\n"
      ],
      "execution_count": 9,
      "outputs": []
    },
    {
      "cell_type": "code",
      "metadata": {
        "colab": {
          "base_uri": "https://localhost:8080/",
          "height": 311
        },
        "id": "VozvBkmjGB3m",
        "outputId": "3901fc69-40af-40cb-ade5-472eea626c3a"
      },
      "source": [
        "#concatinate all the data and store into one data frame\n",
        "df = pd.concat([df1, df2, df3,df4])\n",
        "print(df.shape)\n",
        "df.head()\n"
      ],
      "execution_count": 10,
      "outputs": [
        {
          "output_type": "stream",
          "text": [
            "(58478, 10)\n"
          ],
          "name": "stdout"
        },
        {
          "output_type": "execute_result",
          "data": {
            "text/html": [
              "<div>\n",
              "<style scoped>\n",
              "    .dataframe tbody tr th:only-of-type {\n",
              "        vertical-align: middle;\n",
              "    }\n",
              "\n",
              "    .dataframe tbody tr th {\n",
              "        vertical-align: top;\n",
              "    }\n",
              "\n",
              "    .dataframe thead th {\n",
              "        text-align: right;\n",
              "    }\n",
              "</style>\n",
              "<table border=\"1\" class=\"dataframe\">\n",
              "  <thead>\n",
              "    <tr style=\"text-align: right;\">\n",
              "      <th></th>\n",
              "      <th>articleID</th>\n",
              "      <th>domain</th>\n",
              "      <th>date</th>\n",
              "      <th>category</th>\n",
              "      <th>headline</th>\n",
              "      <th>content</th>\n",
              "      <th>label</th>\n",
              "      <th>source</th>\n",
              "      <th>relation</th>\n",
              "      <th>F-type</th>\n",
              "    </tr>\n",
              "  </thead>\n",
              "  <tbody>\n",
              "    <tr>\n",
              "      <th>0</th>\n",
              "      <td>1</td>\n",
              "      <td>jagonews24.com</td>\n",
              "      <td>2018-09-19 17:48:18</td>\n",
              "      <td>Education</td>\n",
              "      <td>হট্টগোল করায় বাকৃবিতে দুইজন বরখাস্ত, ৬ জনকে শোকজ</td>\n",
              "      <td>গত ১৭ সেপ্টেম্বর বাংলাদেশ কৃষি বিশ্ববিদ্যালয়ে ...</td>\n",
              "      <td>1.0</td>\n",
              "      <td>NaN</td>\n",
              "      <td>NaN</td>\n",
              "      <td>NaN</td>\n",
              "    </tr>\n",
              "    <tr>\n",
              "      <th>1</th>\n",
              "      <td>2</td>\n",
              "      <td>jagonews24.com</td>\n",
              "      <td>2018-09-19 17:48:19</td>\n",
              "      <td>National</td>\n",
              "      <td>মালয়েশিয়ায় কর্মী পাঠানোর ব্যবস্থা নেয়ার সুপারিশ</td>\n",
              "      <td>বাংলাদেশের বৃহৎ শ্রমবাজার মালয়েশিয়ায় আবার শ্রম...</td>\n",
              "      <td>1.0</td>\n",
              "      <td>NaN</td>\n",
              "      <td>NaN</td>\n",
              "      <td>NaN</td>\n",
              "    </tr>\n",
              "    <tr>\n",
              "      <th>2</th>\n",
              "      <td>3</td>\n",
              "      <td>jagonews24.com</td>\n",
              "      <td>2018-09-19 17:48:20</td>\n",
              "      <td>National</td>\n",
              "      <td>প্রেমের প্রস্তাবে রাজি না হওয়ায় স্কুলছাত্রীকে ...</td>\n",
              "      <td>নরসিংদীর মনোহরদীতে প্রেমের প্রস্তাবে রাজি না হ...</td>\n",
              "      <td>1.0</td>\n",
              "      <td>NaN</td>\n",
              "      <td>NaN</td>\n",
              "      <td>NaN</td>\n",
              "    </tr>\n",
              "    <tr>\n",
              "      <th>3</th>\n",
              "      <td>4</td>\n",
              "      <td>jagonews24.com</td>\n",
              "      <td>2018-09-19 17:48:21</td>\n",
              "      <td>Crime</td>\n",
              "      <td>মেডিয়েশনই মামলাজট নিরসনের পথ : বিচারপতি আহমেদ ...</td>\n",
              "      <td>সুপ্রিম কোর্টের হাইকোর্ট বিভাগের বিচারপতি আহমে...</td>\n",
              "      <td>1.0</td>\n",
              "      <td>NaN</td>\n",
              "      <td>NaN</td>\n",
              "      <td>NaN</td>\n",
              "    </tr>\n",
              "    <tr>\n",
              "      <th>4</th>\n",
              "      <td>5</td>\n",
              "      <td>jagonews24.com</td>\n",
              "      <td>2018-09-19 17:48:21</td>\n",
              "      <td>National</td>\n",
              "      <td>টকশোতে বক্তব্য দিতে গিয়ে জাপা নেতার মৃত্যু</td>\n",
              "      <td>মাদারীপুর সদরের উপজেলার লেকেরপাড়ে একটি বেসরকার...</td>\n",
              "      <td>1.0</td>\n",
              "      <td>NaN</td>\n",
              "      <td>NaN</td>\n",
              "      <td>NaN</td>\n",
              "    </tr>\n",
              "  </tbody>\n",
              "</table>\n",
              "</div>"
            ],
            "text/plain": [
              "   articleID          domain                 date  ... source relation F-type\n",
              "0          1  jagonews24.com  2018-09-19 17:48:18  ...    NaN      NaN    NaN\n",
              "1          2  jagonews24.com  2018-09-19 17:48:19  ...    NaN      NaN    NaN\n",
              "2          3  jagonews24.com  2018-09-19 17:48:20  ...    NaN      NaN    NaN\n",
              "3          4  jagonews24.com  2018-09-19 17:48:21  ...    NaN      NaN    NaN\n",
              "4          5  jagonews24.com  2018-09-19 17:48:21  ...    NaN      NaN    NaN\n",
              "\n",
              "[5 rows x 10 columns]"
            ]
          },
          "metadata": {
            "tags": []
          },
          "execution_count": 10
        }
      ]
    },
    {
      "cell_type": "code",
      "metadata": {
        "colab": {
          "base_uri": "https://localhost:8080/"
        },
        "id": "jxhLoaTtGRZp",
        "outputId": "25db085f-c3ff-41b7-d791-25e68ce7082b"
      },
      "source": [
        "#Feature extraction\n",
        "new_df = df.loc[: , ['content' , 'label']] \n",
        "new_df.shape"
      ],
      "execution_count": 11,
      "outputs": [
        {
          "output_type": "execute_result",
          "data": {
            "text/plain": [
              "(58478, 2)"
            ]
          },
          "metadata": {
            "tags": []
          },
          "execution_count": 11
        }
      ]
    },
    {
      "cell_type": "code",
      "metadata": {
        "colab": {
          "base_uri": "https://localhost:8080/",
          "height": 206
        },
        "id": "-RS1v6QBG48t",
        "outputId": "6d6826b6-6d4b-4895-dfdf-33e14ea401ff"
      },
      "source": [
        "#Shuffle the dataset\n",
        "import sklearn\n",
        "new_df=sklearn.utils.shuffle(new_df)\n",
        "new_df.tail()"
      ],
      "execution_count": 12,
      "outputs": [
        {
          "output_type": "execute_result",
          "data": {
            "text/html": [
              "<div>\n",
              "<style scoped>\n",
              "    .dataframe tbody tr th:only-of-type {\n",
              "        vertical-align: middle;\n",
              "    }\n",
              "\n",
              "    .dataframe tbody tr th {\n",
              "        vertical-align: top;\n",
              "    }\n",
              "\n",
              "    .dataframe thead th {\n",
              "        text-align: right;\n",
              "    }\n",
              "</style>\n",
              "<table border=\"1\" class=\"dataframe\">\n",
              "  <thead>\n",
              "    <tr style=\"text-align: right;\">\n",
              "      <th></th>\n",
              "      <th>content</th>\n",
              "      <th>label</th>\n",
              "    </tr>\n",
              "  </thead>\n",
              "  <tbody>\n",
              "    <tr>\n",
              "      <th>25284</th>\n",
              "      <td>আন্তর্জাতিক খ্যাতিসম্পন্ন অভিনেত্রী ববিতা চলচ্...</td>\n",
              "      <td>1.0</td>\n",
              "    </tr>\n",
              "    <tr>\n",
              "      <th>15370</th>\n",
              "      <td>নম্বর ঠিক রেখে অপারেটর বদল বা মোবাইল নম্বর পোর...</td>\n",
              "      <td>1.0</td>\n",
              "    </tr>\n",
              "    <tr>\n",
              "      <th>24359</th>\n",
              "      <td>গত সপ্তাহে বড় দরপতন হয় বাজারে। ফলে বিনিয়োগকারী...</td>\n",
              "      <td>1.0</td>\n",
              "    </tr>\n",
              "    <tr>\n",
              "      <th>28499</th>\n",
              "      <td>মঙ্গলবার কমিশনের এক সংবাদ বিজ্ঞপ্তিতে বলা হয়, ...</td>\n",
              "      <td>1.0</td>\n",
              "    </tr>\n",
              "    <tr>\n",
              "      <th>140</th>\n",
              "      <td>এএফসি অনূর্ধ্ব-১৬ ফুটবলের বাছাই পর্বে বাংলাদেশ...</td>\n",
              "      <td>1.0</td>\n",
              "    </tr>\n",
              "  </tbody>\n",
              "</table>\n",
              "</div>"
            ],
            "text/plain": [
              "                                                 content  label\n",
              "25284  আন্তর্জাতিক খ্যাতিসম্পন্ন অভিনেত্রী ববিতা চলচ্...    1.0\n",
              "15370  নম্বর ঠিক রেখে অপারেটর বদল বা মোবাইল নম্বর পোর...    1.0\n",
              "24359  গত সপ্তাহে বড় দরপতন হয় বাজারে। ফলে বিনিয়োগকারী...    1.0\n",
              "28499  মঙ্গলবার কমিশনের এক সংবাদ বিজ্ঞপ্তিতে বলা হয়, ...    1.0\n",
              "140    এএফসি অনূর্ধ্ব-১৬ ফুটবলের বাছাই পর্বে বাংলাদেশ...    1.0"
            ]
          },
          "metadata": {
            "tags": []
          },
          "execution_count": 12
        }
      ]
    },
    {
      "cell_type": "code",
      "metadata": {
        "colab": {
          "base_uri": "https://localhost:8080/",
          "height": 297
        },
        "id": "KfHvFTJsHHlJ",
        "outputId": "0a4f3e51-9bc3-416c-e2c7-11da1f2319b9"
      },
      "source": [
        "#Data visualization\n",
        "tmp =  new_df['label'].value_counts().sort_index()\n",
        "import seaborn as sb\n",
        "sb.countplot(x='label' , data = new_df , order = tmp.index)"
      ],
      "execution_count": 13,
      "outputs": [
        {
          "output_type": "execute_result",
          "data": {
            "text/plain": [
              "<matplotlib.axes._subplots.AxesSubplot at 0x7fd7d9a1b6d0>"
            ]
          },
          "metadata": {
            "tags": []
          },
          "execution_count": 13
        },
        {
          "output_type": "display_data",
          "data": {
            "image/png": "[encoded data removed]",
            "text/plain": [
              "<Figure size 432x288 with 1 Axes>"
            ]
          },
          "metadata": {
            "tags": [],
            "needs_background": "light"
          }
        }
      ]
    },
    {
      "cell_type": "code",
      "metadata": {
        "colab": {
          "base_uri": "https://localhost:8080/"
        },
        "id": "gKGz2EIMOQUW",
        "outputId": "bd8791d0-09e6-47ee-ec7b-8b69c53bea0b"
      },
      "source": [
        "#Class weight Minority class will get higher priroty and majority class will get lower priroty\n",
        "from sklearn.utils import class_weight\n",
        "import numpy as np\n",
        "class_weight = list(class_weight.compute_class_weight('balanced',np.unique(new_df['label']),new_df['label']))\n",
        "weights={}\n",
        "for index , weight in enumerate(class_weight):\n",
        "  weights[index] = weight\n",
        "weights"
      ],
      "execution_count": 14,
      "outputs": [
        {
          "output_type": "execute_result",
          "data": {
            "text/plain": [
              "{0: 11.25442648190916, 1: 0.5232462419470294}"
            ]
          },
          "metadata": {
            "tags": []
          },
          "execution_count": 14
        }
      ]
    },
    {
      "cell_type": "code",
      "metadata": {
        "colab": {
          "base_uri": "https://localhost:8080/",
          "height": 641
        },
        "id": "25aHCABVHlAz",
        "outputId": "6c373065-5ab7-4a9b-ce3e-4193f5bce345"
      },
      "source": [
        "(X_train, y_train), (X_test , y_test) , preproc = text.texts_from_df(train_df= new_df,\n",
        "                                                                     text_column = 'content',\n",
        "                                                                     label_columns = 'label',\n",
        "                                                                     maxlen=512,\n",
        "                                                                     preprocess_mode = 'bert'\n",
        "                                                                     )"
      ],
      "execution_count": 15,
      "outputs": [
        {
          "output_type": "stream",
          "text": [
            "/usr/local/lib/python3.7/dist-packages/ktrain/utils.py:605: UserWarning: class_names implies classification but targets array contains float(s) instead of integers or strings\n",
            "  warnings.warn('class_names implies classification but targets array contains float(s) instead of integers or strings')\n",
            "/usr/local/lib/python3.7/dist-packages/ktrain/utils.py:605: UserWarning: class_names implies classification but targets array contains float(s) instead of integers or strings\n",
            "  warnings.warn('class_names implies classification but targets array contains float(s) instead of integers or strings')\n"
          ],
          "name": "stderr"
        },
        {
          "output_type": "stream",
          "text": [
            "['not_label', 'label']\n",
            "       not_label  label\n",
            "19374        0.0    1.0\n",
            "46633        0.0    1.0\n",
            "43863        0.0    1.0\n",
            "6367         0.0    1.0\n",
            "4299         0.0    1.0\n",
            "['not_label', 'label']\n",
            "       not_label  label\n",
            "36566        0.0    1.0\n",
            "4055         0.0    1.0\n",
            "33160        0.0    1.0\n",
            "32005        0.0    1.0\n",
            "7205         0.0    1.0\n",
            "downloading pretrained BERT model (multi_cased_L-12_H-768_A-12.zip)...\n",
            "[██████████████████████████████████████████████████]\n",
            "extracting pretrained BERT model...\n",
            "done.\n",
            "\n",
            "cleanup downloaded zip...\n",
            "done.\n",
            "\n",
            "preprocessing train...\n",
            "language: bn\n"
          ],
          "name": "stdout"
        },
        {
          "output_type": "display_data",
          "data": {
            "text/html": [
              "done."
            ],
            "text/plain": [
              "<IPython.core.display.HTML object>"
            ]
          },
          "metadata": {
            "tags": []
          }
        },
        {
          "output_type": "stream",
          "text": [
            "Is Multi-Label? False\n",
            "preprocessing test...\n",
            "language: bn\n"
          ],
          "name": "stdout"
        },
        {
          "output_type": "display_data",
          "data": {
            "text/html": [
              "done."
            ],
            "text/plain": [
              "<IPython.core.display.HTML object>"
            ]
          },
          "metadata": {
            "tags": []
          }
        }
      ]
    },
    {
      "cell_type": "markdown",
      "metadata": {
        "id": "y3wvkAUv3qaq"
      },
      "source": [
        "# Preprocessing"
      ]
    },
    {
      "cell_type": "code",
      "metadata": {
        "colab": {
          "base_uri": "https://localhost:8080/"
        },
        "id": "I020KDt1KlnS",
        "outputId": "8364dd95-8fdc-44c6-8212-91773d055bf6"
      },
      "source": [
        "model = text.text_classifier(name='bert',\n",
        "                             train_data = (X_train ,y_train),\n",
        "                             preproc= preproc)\n",
        "model.compile(loss='binary_crossentropy',optimizer='adam', metrics=['accuracy'])"
      ],
      "execution_count": 16,
      "outputs": [
        {
          "output_type": "stream",
          "text": [
            "Is Multi-Label? False\n",
            "maxlen is 512\n",
            "done.\n"
          ],
          "name": "stdout"
        }
      ]
    },
    {
      "cell_type": "markdown",
      "metadata": {
        "id": "zRM62qU03ntx"
      },
      "source": [
        "# Find learner"
      ]
    },
    {
      "cell_type": "code",
      "metadata": {
        "id": "BhE45qSVM2OS"
      },
      "source": [
        "learner = ktrain.get_learner(model = model , train_data=(X_train , y_train),\n",
        "                             val_data = (X_test , y_test),\n",
        "                             batch_size = 6)"
      ],
      "execution_count": 17,
      "outputs": []
    },
    {
      "cell_type": "markdown",
      "metadata": {
        "id": "7wPgYUjW34b4"
      },
      "source": [
        "# Finding best learning rate"
      ]
    },
    {
      "cell_type": "code",
      "metadata": {
        "colab": {
          "base_uri": "https://localhost:8080/",
          "height": 412
        },
        "id": "C4a3YUTSPgLE",
        "outputId": "d3cf74fe-df48-4b40-9dd1-5a572627b732"
      },
      "source": [
        "#findout best Learning rate\n",
        "learner.lr_find()\n",
        "learner.lr_plot()"
      ],
      "execution_count": 18,
      "outputs": [
        {
          "output_type": "stream",
          "text": [
            "simulating training for different learning rates... this may take a few moments...\n",
            "Epoch 1/1024\n",
            "8772/8772 [==============================] - 2475s 280ms/step - loss: 1.5354 - accuracy: 0.9444\n",
            "\n",
            "\n",
            "done.\n",
            "Please invoke the Learner.lr_plot() method to visually inspect the loss plot to help identify the maximal learning rate associated with falling loss.\n"
          ],
          "name": "stdout"
        },
        {
          "output_type": "display_data",
          "data": {
            "image/png": "[encoded data removed]",
            "text/plain": [
              "<Figure size 432x288 with 1 Axes>"
            ]
          },
          "metadata": {
            "tags": [],
            "needs_background": "light"
          }
        }
      ]
    },
    {
      "cell_type": "markdown",
      "metadata": {
        "id": "068D7tX333Hx"
      },
      "source": [
        "# Training the model"
      ]
    },
    {
      "cell_type": "code",
      "metadata": {
        "id": "TdP8EFqlPwRZ",
        "colab": {
          "base_uri": "https://localhost:8080/"
        },
        "outputId": "34c25a8f-31b5-4ba3-b9b7-9c01b6020843"
      },
      "source": [
        "learner.fit_onecycle(lr=10**-5, epochs=1, class_weight=weights)"
      ],
      "execution_count": 20,
      "outputs": [
        {
          "output_type": "stream",
          "text": [
            "\n",
            "\n",
            "begin training using onecycle policy with max lr of 1e-05...\n",
            "8772/8772 [==============================] - 14253s 2s/step - loss: 0.3521 - accuracy: 0.8468 - val_loss: 0.1481 - val_accuracy: 0.9379\n"
          ],
          "name": "stdout"
        },
        {
          "output_type": "execute_result",
          "data": {
            "text/plain": [
              "<tensorflow.python.keras.callbacks.History at 0x7fd2f7f41b50>"
            ]
          },
          "metadata": {
            "tags": []
          },
          "execution_count": 20
        }
      ]
    },
    {
      "cell_type": "markdown",
      "metadata": {
        "id": "l_oyXc9s4DxG"
      },
      "source": [
        "# Save the model"
      ]
    },
    {
      "cell_type": "code",
      "metadata": {
        "id": "6Ow2RHJtsVL5"
      },
      "source": [
        "predictor = ktrain.get_predictor(learner.model, preproc)\n",
        "predictor.save('/content/drive/My Drive/bert')"
      ],
      "execution_count": 22,
      "outputs": []
    },
    {
      "cell_type": "markdown",
      "metadata": {
        "id": "IZVkGrzn4HO_"
      },
      "source": [
        "# Import another dataset for Testing"
      ]
    },
    {
      "cell_type": "code",
      "metadata": {
        "id": "Yn_nNJUenUeb"
      },
      "source": [
        "df_test = pd.read_excel(\"/content/FinalData1.xls\")"
      ],
      "execution_count": 68,
      "outputs": []
    },
    {
      "cell_type": "code",
      "metadata": {
        "colab": {
          "base_uri": "https://localhost:8080/",
          "height": 424
        },
        "id": "h2WAilWhnUh2",
        "outputId": "446259e3-1120-48f4-8a72-821c05466eaa"
      },
      "source": [
        "df_test[['Statement','Class']]"
      ],
      "execution_count": 69,
      "outputs": [
        {
          "output_type": "execute_result",
          "data": {
            "text/html": [
              "<div>\n",
              "<style scoped>\n",
              "    .dataframe tbody tr th:only-of-type {\n",
              "        vertical-align: middle;\n",
              "    }\n",
              "\n",
              "    .dataframe tbody tr th {\n",
              "        vertical-align: top;\n",
              "    }\n",
              "\n",
              "    .dataframe thead th {\n",
              "        text-align: right;\n",
              "    }\n",
              "</style>\n",
              "<table border=\"1\" class=\"dataframe\">\n",
              "  <thead>\n",
              "    <tr style=\"text-align: right;\">\n",
              "      <th></th>\n",
              "      <th>Statement</th>\n",
              "      <th>Class</th>\n",
              "    </tr>\n",
              "  </thead>\n",
              "  <tbody>\n",
              "    <tr>\n",
              "      <th>0</th>\n",
              "      <td>\\n\\nদেশে করোনাভাইরাসে আক্রান্ত হয়ে গত ২৪ ঘণ্টা...</td>\n",
              "      <td>Real</td>\n",
              "    </tr>\n",
              "    <tr>\n",
              "      <th>1</th>\n",
              "      <td>\\n\\nদ্বিতীয় বিশ্বযুদ্ধের পর থেকে বিশ্বের প্রভু...</td>\n",
              "      <td>Real</td>\n",
              "    </tr>\n",
              "    <tr>\n",
              "      <th>2</th>\n",
              "      <td>\\n\\nবাড়ির পাশেই ভিক্টোরিয়া পার্ক, বিকেল হলেই স...</td>\n",
              "      <td>Real</td>\n",
              "    </tr>\n",
              "    <tr>\n",
              "      <th>3</th>\n",
              "      <td>\\n\\nবাইরে বেরোচ্ছি না বেশ কিছুদিন ধরে। বলা ভাল...</td>\n",
              "      <td>Real</td>\n",
              "    </tr>\n",
              "    <tr>\n",
              "      <th>4</th>\n",
              "      <td>\\n\\nসবার মতো লেখকেরাও এখন ঘরবন্দী। লেখকদের এই ...</td>\n",
              "      <td>Real</td>\n",
              "    </tr>\n",
              "    <tr>\n",
              "      <th>...</th>\n",
              "      <td>...</td>\n",
              "      <td>...</td>\n",
              "    </tr>\n",
              "    <tr>\n",
              "      <th>2536</th>\n",
              "      <td>\\n\\n\\n\\n\\n\\n\\n \\n\\nএবার ইন্টারভিউর মাঝে পাদ দে...</td>\n",
              "      <td>Fake</td>\n",
              "    </tr>\n",
              "    <tr>\n",
              "      <th>2537</th>\n",
              "      <td>\\n\\n\\n \\n\\nঅবশেষে বেরিয়ে এলো শফিক রেহমানের থল...</td>\n",
              "      <td>Fake</td>\n",
              "    </tr>\n",
              "    <tr>\n",
              "      <th>2538</th>\n",
              "      <td>\\n\\n\\n\\n\\nএবার প্যান্টের ভেতর সাতটি সোনা সহ এক...</td>\n",
              "      <td>Fake</td>\n",
              "    </tr>\n",
              "    <tr>\n",
              "      <th>2539</th>\n",
              "      <td>\\n\\n\\n\\n\\n\\n\\n\\nএবার রাজধানীতে ঘটলো আরেকটি চাঞ...</td>\n",
              "      <td>Fake</td>\n",
              "    </tr>\n",
              "    <tr>\n",
              "      <th>2540</th>\n",
              "      <td>\\n\\n\\n\\n\\nএবার প্রকাশ্যে কলা খাওয়া নিষিদ্ধ হত...</td>\n",
              "      <td>Fake</td>\n",
              "    </tr>\n",
              "  </tbody>\n",
              "</table>\n",
              "<p>2541 rows × 2 columns</p>\n",
              "</div>"
            ],
            "text/plain": [
              "                                              Statement Class\n",
              "0     \\n\\nদেশে করোনাভাইরাসে আক্রান্ত হয়ে গত ২৪ ঘণ্টা...  Real\n",
              "1     \\n\\nদ্বিতীয় বিশ্বযুদ্ধের পর থেকে বিশ্বের প্রভু...  Real\n",
              "2     \\n\\nবাড়ির পাশেই ভিক্টোরিয়া পার্ক, বিকেল হলেই স...  Real\n",
              "3     \\n\\nবাইরে বেরোচ্ছি না বেশ কিছুদিন ধরে। বলা ভাল...  Real\n",
              "4     \\n\\nসবার মতো লেখকেরাও এখন ঘরবন্দী। লেখকদের এই ...  Real\n",
              "...                                                 ...   ...\n",
              "2536  \\n\\n\\n\\n\\n\\n\\n \\n\\nএবার ইন্টারভিউর মাঝে পাদ দে...  Fake\n",
              "2537  \\n\\n\\n \\n\\nঅবশেষে বেরিয়ে এলো শফিক রেহমানের থল...  Fake\n",
              "2538  \\n\\n\\n\\n\\nএবার প্যান্টের ভেতর সাতটি সোনা সহ এক...  Fake\n",
              "2539  \\n\\n\\n\\n\\n\\n\\n\\nএবার রাজধানীতে ঘটলো আরেকটি চাঞ...  Fake\n",
              "2540  \\n\\n\\n\\n\\nএবার প্রকাশ্যে কলা খাওয়া নিষিদ্ধ হত...  Fake\n",
              "\n",
              "[2541 rows x 2 columns]"
            ]
          },
          "metadata": {
            "tags": []
          },
          "execution_count": 69
        }
      ]
    },
    {
      "cell_type": "code",
      "metadata": {
        "id": "GQ_PTm3QnUoE"
      },
      "source": [
        "content = df_test['Statement'].tolist()\n",
        "labels = df_test['Class'].tolist()"
      ],
      "execution_count": 71,
      "outputs": []
    },
    {
      "cell_type": "code",
      "metadata": {
        "id": "8sM4lx53nUqb"
      },
      "source": [
        "import re\n",
        "def rex(token):\n",
        "    return re.sub(\"([A-Za-z0-9_:.]+|[\\n]+|[\\xa0]+|শেয়ার করুন,)\",\"\",token)"
      ],
      "execution_count": 77,
      "outputs": []
    },
    {
      "cell_type": "code",
      "metadata": {
        "id": "K-W6p3bvnUtM"
      },
      "source": [
        "test =[rex(token) for token in content]\n"
      ],
      "execution_count": 80,
      "outputs": []
    },
    {
      "cell_type": "code",
      "metadata": {
        "id": "4L1cdNE_c_lD"
      },
      "source": [
        "data = ['নম্বর নারী ও শিশু নির্যাতন দমন ট্রাইবুনাল আদালতের মহিলা বিচারক তানজিনা ইসমাঈল গৃহকর্মী নির্যাতনের মামলায় ক্রিকেটার শাহাদত হোসেন এবং তার স্ত্রী জেসমিন জাহানের কুনো দুষ খুজে না পেয়ে তাদেরকে বেকসুর খালাস দিয়েছেন। বিচার কার্য চলা কালে শাহাদতকে নিচের ছবি দেখালে তিনি বলেন, আমি তার গায়ে হাত তুলি নাই আল্লাহর কসম। শুনেন, আমি জাতীয় দলে খেলা ফাষ্ট বোলার। তাই সে যখন আমরার বাসায় কাজ করতে আসে, তখনই চুক্তি হইছিল, সে বাসায় আমার বোলিং পেকটিসের সময় হেলপ করবে। তারে তো বেটসমেন বানান যায় না, তাই সে হবে বেটসগার্ল। তো এক দিন তারে বোলিং করার সময় বাউন্সার দিছিলাম। সে ঠিক মতন খেলতে পারে নাই। বল গিয়া লাগে তার চুখের পাশে। এখন মাননীয় আদালত, আপনেই বলেন সে যদি হেলমেট না পইরা বেটিং করতে নামে, সেইটা আমার দুষ? আপনেই বলেন বোলারের বল বেটসমেনের গায়ে লাগার কারনে মামলা করা হইছে, এমন ইতিহাস দুনিয়ার কুথাও আছে? ইতি পুর্বে স্ত্রীকে মারধর ও যৌতুকের মামলায় কারাগারে থাকা কণ্ঠশিল্পী আরফিন রুমির জামিনের রায় দেওয়া এই মহিলা বিচারক তানজিনা ইসমাঈল তখন ফরিয়াদি পক্ষকে পশ্ন করেন, আসামী পক্ষ বলতেছে এক কথা, আর আপনারা দাবি করতেছেন শিশু মেয়েটারে মারা হইছে, গায়ে গাত তোলা হইছে। আপনাদের দাবির সপক্ষে কুনো ভিডু আছে?… নাই? কথা শেষ। মামলা ডিশমিস। শিশু নির্যাতন মামলায় মহিলা বিচারপতির রায়ে বেকসুর খালাস পাওয়া শাহাদত এর আগে এক সাক্ষাতকারে “মেয়েরা আপনাকে এত পছন্দ করে কেন?” এই প্রশ্নের উত্তরে বলছিলেন, “এটা আমি তো জানি না…হা হা হা। সবচেয়ে বড় কথা স্মার্টনেস। এটা অনেকের মধ্যেই নেই, আমার আছে। স্মার্টনেস জানেন তো? মানে পোশাক-আশাক, চালচলন। হাইটটা অনেক ইম্পর্টেন্ট। সবার স্মার্টনেস হাইটের জন্যই হয়। আমার মতো যাঁরা লম্বা, তাঁরা দেখবেন অনেক সময় গুজা (কুঁজো) হয়ে হাঁটে। এ রকম আমার মধ্যে নেই। স্মার্ট হওয়ার জন্য যা দরকার ওটা আমার মধ্যে আছে। প্লেয়াররা সবাই বলে দাড়ি থাকলে আমাকে আফ্রিদি আফ্রিদি লাগে। বিদেশে গেলেও দাড়ি থাকলে কেউ বলে না যে আমি বাংলাদেশি। বলে পাকিস্তানি। আমার হাইটটা অনেক ইম্পরটেন্ট। চেহারাও আল্লাহর রহমতে ভালো।',\n",
        "        'নিজস্ব মতিবেদক সমাজ, সংসার ও সরকারের নীপীড়ন নীর্যাতনের বিরুদ্ধে প্রতিবাদের নতুন প্লাটফর্ম হিসেবে রাজনীতীর মঞ্চে প্রবেশ করেছে নতুন সংঘটন “ফিউরিয়াস ফখা ফ্রেটারনিটি” ওরফে “এফএফএফ”।মংগলবার সন্ধ্যায় প্রেস ক্লাবে আয়জিত এক সংবাদ সম্মেলনে এ সংঘটনের আত্ম প্রকাশের কথা তুলে ধরেন এফএফএফের প্রতিষ্ঠাতা আমীর ও বৃহত্তর জামায়াতের বিএনপি শাখার ভাঁড়মুক্ত মহানায়েব, জাতীয়তাবাদী শক্তির ‘কমপ্লান বয়’, লনডনে পলাতক চিকিতসাধীন আওলাদে আমীর বড় গুণ্ডে কতৃক ‘হাইড এন্ড সিক’ গালিতে ভুষিত ও ঈদুল কতলের টেলেন্ট হান্ট প্রতিযোগীতায় ‘ফ্লেয়ার এন্ড লাবলি’ খেতাবে সমাদৃত মির্জা বাড়ির বড় গৌরব আল্লামা মির্জা ফখরুল ইসলাম আগুনগীর ওরফে ফখা ইবনে চখা। কাদলেন ফখরুল সংবাদ সম্মেলনে আগুনগীর বলেন, আজ বাংলার রাজনীতীর আকাশে কাল মেঘের ঘনঘটা। কুথা হতে কি ঘটতেছে, বুঝা মুশকিল। চারিদিকে হয় জংগীর হামলা, নয় পুলিশের মামলা। তার উপরে যদি আপনার নাম ফখ দিয়া শুরু হয়, আপনার জীবন শেষ। হুহু করে কেদে উঠে ফখা ইবনে চখা বলেন, নিজের কথা ভাবি না। বিএনপি শাখার মহানায়েব আমি, সমস্ত অন্যায় মামলা হামলা ঝামলা আমার উপর দিয়া যাবে। উহার জন্যই আমায় মহানায়েব বানান হইছে। কিন্তু অন্য ফখরুলদের দুঃখে আমার রাত্রকালে ঘুম আসে না।\\nঅশ্রু মুছে রাগারাগি করে মির্জা বাড়ির বড় গৌরব বলেন, কিছুদিন আগে বেরিষ্টার ফখরুলরে ব্রাদারফাকার সাকার মামলায় ট্রায়বুনালের রায় চুরির দায়ে দশ বছরের জেল দিয়া দিল। আপনারাই বলেন উহা কেমন বিচার? ট্রায়বুনালের রায় কেন, ঐশ্যরিয়া রায়রে চুরি করলেও ত দশ বছরের জেল দেওন উচিত না। কাঠগড়ায় তুলিয়া দুটু বকা দিয়া দিলেই ত চলত। কিংবা কানে হেডফুন বান্ধিয়া এস আই টুটুলের “আয় খোকা আয়” একশ বার শুনাইয়া দিলেই হইত। তা না করিয়া উহারে দিল হাজতে পাঠাইয়া। কেনে? কারন তার নাম ফখরুল। সে যদি বেরিষ্টার বদরুল, বেরিষ্টার সদরুল, বেরিষ্টার নজরুল, বেরিষ্টার ফজলুল, বেরিষ্টার কামরুল, বেরিষ্টার জামরুল ইত্যাদি হত, কুন সাজাই তার হত না। শুদু মাত্র ফখরুল হওয়ার কারনে তারে এইরুপ হেনস্তা করা হইল। কই, ব্রাদারফাকার সাকার বিবি আওলাদের ত কুন সাজা হল না। পাপ করল সবাই, জেল হইল ফখরুলের। ইয়ে কেয়সা অবিচার? আবারও কেদে ফেলে ফ্লেয়ার এন্ড লাবলি বলেন, তার পর দুই দিন পার হইয়া সারল না, বিশিষ্ঠ অভিনেতা ফখরুল হাসান বৈরাগীরে ফেসিবাদী বাকশালী সরকার গুমখুন করল। যদিও সে জেন্ত ফিরত আসিয়া বলতেছে যে সরকার উহাকে গুম করে নাই, খুনও করে নাই, সে গালফেন্ডের অত্যাচারের ঠেলায় আপন পুত্রের বাসায় গিয়া উঠছিল, কিন্তু বাকশালী সরকারের চাপে নীপীড়ীত বেক্তিরা কত কথাই ত বলতে বাধ্য হয়। আসল ঘটনা হইতেছে, শুদু নেতা ফখরুলরে অত্যাচার করিয়াই বাকশালের পেট ভরে নাই, তাই তারা অভিনেতা ফখরুলের পিছেও লাগছে। কুন প্রকার ফখরুলরেই উহারা জুলুম না করিয়া থাকতে পারে না।\\nতত্তাবধায়ক সরকারের প্রধান উপদেস্টা ফখরুদ্দির কথা উল্লেখ করে আবেগঘন কণ্ঠে আগুনগীর বলেন, কত উপদেস্টাই ত আইল গেল। কিন্তু শুদু মাত্র নামখানা ফখ দিয়া শুরু হওয়ার কারনে আজ সে লুকটি দেশছাড়া। দেশে আসলেই হয়ত দিবে জেলে ঢুকাইয়া, কিংবা গুম করিয়া। যদি সে বকরুদ্দি, সদরুদ্দি, কামরুদ্দি, জামরুদ্দি হইত, কুন সমস্যাই তার হত না।\\nঅবিলম্বে জাতি ধর্ম বর্ন লিংগ নির্বিশেষ সকল প্রকার ফখার উপর সকল প্রকার জুলুমবাজী বন্ধের আহোভান জানিয়ে ফখা ইবনে চখা বলেন, ফিউরিয়াস ফখা ফ্রেটারনিটি সকল মজলুম ফখার পাশে আছে। নেতা হন কিংবা অভিনেতা, উকিল হন কিংবা আসামী, পুলিশ হন কিংবা চুর, নাম ফখ দিয়া শুরু হইলে এফএফএফ আপনার পাশে থাকবে।\\nঅধুনা নিস্ক্রিয় ফেন্টাষ্টিক ফাইভের প্রসংশা করে আগুনগীর বলেন, তারা ছিল ডাবুল এফ। মাত্র পাচটি পাণ্ডে একত্র হইয়া রাজপথ কাপাইয়া দিছিল। আমরা ট্রিপুল এফ। আমরা কি পারব না?\\nবৃস্টিপাত কমার পর প্রেস ক্লাবের সামনে একটি ফখাবন্ধনের ডাক দিয়ে কমপ্লান বয় বলেন, ফেলুদায় আছিল সুপারমেন প্রখর রুদ্র। আমরা হব উহার ইসলামী কাউন্টারপাট ফখর রুদ্র। ফখারা মাইর শুরু করলে কুন বাকশালী কান্দিয়া কুল পাবি না হুশিয়ার কয়ে দিলুম।',\n",
        "        'অন্তত দুই সপ্তাহ পূর্ণ লকডাউন ছাড়া করোনাভাইরাসের বর্তমান পরিস্থিতি নিয়ন্ত্রণ করা যাবে না বলে মনে করছে কোভিড-১৯ জাতীয় কারিগরি পরামর্শক কমিটি। গত বুধবার রাতে কমিটির ৩০তম সভায় তাই সারা দেশে দুই সপ্তাহ পূর্ণ লকডাউন দেওয়ার সুপারিশ করা হয়। সভার সুপারিশ নিয়ে জাতীয় কারিগরি পরামর্শক কমিটির সভাপতি অধ্যাপক মোহাম্মদ সহিদুল্লার সই করা একটি সংবাদ বিজ্ঞপ্তি আজ শুক্রবার গণমাধ্যমে পাঠানো হয়েছে। কমিটি বিশেষ করে সিটি করপোরেশন ও পৌরসভাগুলোয় পূর্ণ লকডাউন দেওয়ার সুপারিশ করেছে লকডাউনের দুই সপ্তাহ শেষ হওয়ার আগে সংক্রমণের হার বিবেচনা করে আবার নতুন সিদ্ধান্ত নেওয়ার কথা বলেছে। কমিটি মনে করে,করোনাভাইরাস সংক্রমণ ও মৃত্যুর হার বৃদ্ধিতে জনস্বাস্থ্য সম্পর্কিত যে ১৮টি নির্দেশনা জারি হয়েছিল, সেগুলো সঠিকভাবে মানা হচ্ছে না। তাই বিধিনিষেধ আরও শক্তভাবে অনুসরণ করা দরকার।']"
      ],
      "execution_count": 39,
      "outputs": []
    },
    {
      "cell_type": "code",
      "metadata": {
        "id": "bX2aThPpmJgR"
      },
      "source": [
        "def labeling(pred):\n",
        "  tst = []\n",
        "  for fake , real in pred:\n",
        "    if fake[1] > real[1]:\n",
        "      tst.append('Fake')\n",
        "    else:\n",
        "      tst.append('Real')\n",
        "  return tst"
      ],
      "execution_count": 81,
      "outputs": []
    },
    {
      "cell_type": "code",
      "metadata": {
        "id": "lAzNEHE8Ta7m"
      },
      "source": [
        "pred = predictor.predict(test)\n",
        "pred= labeling(pred)"
      ],
      "execution_count": 82,
      "outputs": []
    },
    {
      "cell_type": "code",
      "metadata": {
        "colab": {
          "base_uri": "https://localhost:8080/"
        },
        "id": "BAXQGR-MX3zp",
        "outputId": "cfd18049-8b98-4339-b8ab-3ffa8502ebba"
      },
      "source": [
        "from sklearn.metrics import confusion_matrix\n",
        "confusion_matrix(labels, pred)"
      ],
      "execution_count": 89,
      "outputs": [
        {
          "output_type": "execute_result",
          "data": {
            "text/plain": [
              "array([[ 939,   54],\n",
              "       [ 397, 1151]])"
            ]
          },
          "metadata": {
            "tags": []
          },
          "execution_count": 89
        }
      ]
    },
    {
      "cell_type": "code",
      "metadata": {
        "colab": {
          "base_uri": "https://localhost:8080/"
        },
        "id": "WWC-DO1fcqzJ",
        "outputId": "a70c4bca-390d-4702-f9e1-1433a35725e6"
      },
      "source": [
        "from sklearn.metrics import classification_report\n",
        "target_names = ['Fake', 'Real']\n",
        "print(classification_report(labels , pred ,target_names = target_names ))"
      ],
      "execution_count": 90,
      "outputs": [
        {
          "output_type": "stream",
          "text": [
            "              precision    recall  f1-score   support\n",
            "\n",
            "        Fake       0.70      0.95      0.81       993\n",
            "        Real       0.96      0.74      0.84      1548\n",
            "\n",
            "    accuracy                           0.82      2541\n",
            "   macro avg       0.83      0.84      0.82      2541\n",
            "weighted avg       0.86      0.82      0.82      2541\n",
            "\n"
          ],
          "name": "stdout"
        }
      ]
    },
    {
      "cell_type": "code",
      "metadata": {
        "id": "SdS66GF8injn"
      },
      "source": [
        ""
      ],
      "execution_count": null,
      "outputs": []
    }
  ]
}